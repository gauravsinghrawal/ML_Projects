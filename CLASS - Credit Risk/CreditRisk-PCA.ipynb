{
 "cells": [
  {
   "cell_type": "code",
   "execution_count": 39,
   "metadata": {
    "colab": {
     "base_uri": "https://localhost:8080/",
     "height": 70
    },
    "colab_type": "code",
    "executionInfo": {
     "elapsed": 3976,
     "status": "ok",
     "timestamp": 1586440262709,
     "user": {
      "displayName": "Gaurav Rawal",
      "photoUrl": "",
      "userId": "15788189003675721616"
     },
     "user_tz": -330
    },
    "id": "ecqP1-I8M36Z",
    "outputId": "e168d610-3ec2-480e-952e-1fcec05143a1"
   },
   "outputs": [],
   "source": [
    "import pandas as pd\n",
    "import numpy as np\n",
    "import seaborn as sns\n",
    "import matplotlib.pyplot as plt\n",
    "%matplotlib inline"
   ]
  },
  {
   "cell_type": "code",
   "execution_count": 40,
   "metadata": {
    "colab": {},
    "colab_type": "code",
    "id": "a7U2VjVdM36h"
   },
   "outputs": [],
   "source": [
    "train_data=pd.read_csv(r'C:\\Users\\gaurav.singh.rawal\\Documents\\Gaurav\\Data Science\\Machine Learning-Predictive Analytics\\ML-Projects\\GIT- MLProjects\\ML_Projects\\CLASS - Credit Risk\\cs-training.csv')\n",
    "test_data=pd.read_csv(r'C:\\Users\\gaurav.singh.rawal\\Documents\\Gaurav\\Data Science\\Machine Learning-Predictive Analytics\\ML-Projects\\GIT- MLProjects\\ML_Projects\\CLASS - Credit Risk\\cs-test.csv')"
   ]
  },
  {
   "cell_type": "code",
   "execution_count": 41,
   "metadata": {},
   "outputs": [
    {
     "data": {
      "text/html": [
       "<div>\n",
       "<style scoped>\n",
       "    .dataframe tbody tr th:only-of-type {\n",
       "        vertical-align: middle;\n",
       "    }\n",
       "\n",
       "    .dataframe tbody tr th {\n",
       "        vertical-align: top;\n",
       "    }\n",
       "\n",
       "    .dataframe thead th {\n",
       "        text-align: right;\n",
       "    }\n",
       "</style>\n",
       "<table border=\"1\" class=\"dataframe\">\n",
       "  <thead>\n",
       "    <tr style=\"text-align: right;\">\n",
       "      <th></th>\n",
       "      <th>RevolvingUtilizationOfUnsecuredLines</th>\n",
       "      <th>age</th>\n",
       "      <th>NumberOfTime30-59DaysPastDueNotWorse</th>\n",
       "      <th>DebtRatio</th>\n",
       "      <th>MonthlyIncome</th>\n",
       "      <th>NumberOfOpenCreditLinesAndLoans</th>\n",
       "      <th>NumberOfTimes90DaysLate</th>\n",
       "      <th>NumberRealEstateLoansOrLines</th>\n",
       "      <th>NumberOfTime60-89DaysPastDueNotWorse</th>\n",
       "      <th>NumberOfDependents</th>\n",
       "    </tr>\n",
       "  </thead>\n",
       "  <tbody>\n",
       "    <tr>\n",
       "      <th>0</th>\n",
       "      <td>0.885519</td>\n",
       "      <td>43</td>\n",
       "      <td>0</td>\n",
       "      <td>0.177513</td>\n",
       "      <td>5700.0</td>\n",
       "      <td>4</td>\n",
       "      <td>0</td>\n",
       "      <td>0</td>\n",
       "      <td>0</td>\n",
       "      <td>0.0</td>\n",
       "    </tr>\n",
       "    <tr>\n",
       "      <th>1</th>\n",
       "      <td>0.463295</td>\n",
       "      <td>57</td>\n",
       "      <td>0</td>\n",
       "      <td>0.527237</td>\n",
       "      <td>9141.0</td>\n",
       "      <td>15</td>\n",
       "      <td>0</td>\n",
       "      <td>4</td>\n",
       "      <td>0</td>\n",
       "      <td>2.0</td>\n",
       "    </tr>\n",
       "    <tr>\n",
       "      <th>2</th>\n",
       "      <td>0.043275</td>\n",
       "      <td>59</td>\n",
       "      <td>0</td>\n",
       "      <td>0.687648</td>\n",
       "      <td>5083.0</td>\n",
       "      <td>12</td>\n",
       "      <td>0</td>\n",
       "      <td>1</td>\n",
       "      <td>0</td>\n",
       "      <td>2.0</td>\n",
       "    </tr>\n",
       "    <tr>\n",
       "      <th>3</th>\n",
       "      <td>0.280308</td>\n",
       "      <td>38</td>\n",
       "      <td>1</td>\n",
       "      <td>0.925961</td>\n",
       "      <td>3200.0</td>\n",
       "      <td>7</td>\n",
       "      <td>0</td>\n",
       "      <td>2</td>\n",
       "      <td>0</td>\n",
       "      <td>0.0</td>\n",
       "    </tr>\n",
       "    <tr>\n",
       "      <th>4</th>\n",
       "      <td>1.000000</td>\n",
       "      <td>27</td>\n",
       "      <td>0</td>\n",
       "      <td>0.019917</td>\n",
       "      <td>3865.0</td>\n",
       "      <td>4</td>\n",
       "      <td>0</td>\n",
       "      <td>0</td>\n",
       "      <td>0</td>\n",
       "      <td>1.0</td>\n",
       "    </tr>\n",
       "  </tbody>\n",
       "</table>\n",
       "</div>"
      ],
      "text/plain": [
       "   RevolvingUtilizationOfUnsecuredLines  age  \\\n",
       "0                              0.885519   43   \n",
       "1                              0.463295   57   \n",
       "2                              0.043275   59   \n",
       "3                              0.280308   38   \n",
       "4                              1.000000   27   \n",
       "\n",
       "   NumberOfTime30-59DaysPastDueNotWorse  DebtRatio  MonthlyIncome  \\\n",
       "0                                     0   0.177513         5700.0   \n",
       "1                                     0   0.527237         9141.0   \n",
       "2                                     0   0.687648         5083.0   \n",
       "3                                     1   0.925961         3200.0   \n",
       "4                                     0   0.019917         3865.0   \n",
       "\n",
       "   NumberOfOpenCreditLinesAndLoans  NumberOfTimes90DaysLate  \\\n",
       "0                                4                        0   \n",
       "1                               15                        0   \n",
       "2                               12                        0   \n",
       "3                                7                        0   \n",
       "4                                4                        0   \n",
       "\n",
       "   NumberRealEstateLoansOrLines  NumberOfTime60-89DaysPastDueNotWorse  \\\n",
       "0                             0                                     0   \n",
       "1                             4                                     0   \n",
       "2                             1                                     0   \n",
       "3                             2                                     0   \n",
       "4                             0                                     0   \n",
       "\n",
       "   NumberOfDependents  \n",
       "0                 0.0  \n",
       "1                 2.0  \n",
       "2                 2.0  \n",
       "3                 0.0  \n",
       "4                 1.0  "
      ]
     },
     "execution_count": 41,
     "metadata": {},
     "output_type": "execute_result"
    }
   ],
   "source": [
    "test_data.head()"
   ]
  },
  {
   "cell_type": "code",
   "execution_count": 42,
   "metadata": {},
   "outputs": [
    {
     "data": {
      "text/plain": [
       "(101503, 10)"
      ]
     },
     "execution_count": 42,
     "metadata": {},
     "output_type": "execute_result"
    }
   ],
   "source": [
    "test_data.shape"
   ]
  },
  {
   "cell_type": "code",
   "execution_count": 43,
   "metadata": {
    "colab": {},
    "colab_type": "code",
    "id": "KvM4ssqnM36l"
   },
   "outputs": [],
   "source": [
    "# For each column heading we replace \"-\" and convert the heading in lowercase \n",
    "train_cleancolumn = []\n",
    "test_cleancolumn=[]\n",
    "for i in range(len(train_data.columns)):\n",
    "    train_cleancolumn.append(train_data.columns[i].replace('-', '').lower())\n",
    "for i in range(len(test_data.columns)):\n",
    "    test_cleancolumn.append(test_data.columns[i].replace('-', '').lower())\n",
    "train_data.columns = train_cleancolumn\n",
    "test_data.columns=test_cleancolumn"
   ]
  },
  {
   "cell_type": "code",
   "execution_count": 44,
   "metadata": {
    "colab": {
     "base_uri": "https://localhost:8080/",
     "height": 215
    },
    "colab_type": "code",
    "executionInfo": {
     "elapsed": 7520,
     "status": "ok",
     "timestamp": 1586441169440,
     "user": {
      "displayName": "Gaurav Rawal",
      "photoUrl": "",
      "userId": "15788189003675721616"
     },
     "user_tz": -330
    },
    "id": "ckzk5kuYM36s",
    "outputId": "eb3834aa-42e6-4722-afd8-2fcc7b3daefc"
   },
   "outputs": [
    {
     "data": {
      "text/html": [
       "<div>\n",
       "<style scoped>\n",
       "    .dataframe tbody tr th:only-of-type {\n",
       "        vertical-align: middle;\n",
       "    }\n",
       "\n",
       "    .dataframe tbody tr th {\n",
       "        vertical-align: top;\n",
       "    }\n",
       "\n",
       "    .dataframe thead th {\n",
       "        text-align: right;\n",
       "    }\n",
       "</style>\n",
       "<table border=\"1\" class=\"dataframe\">\n",
       "  <thead>\n",
       "    <tr style=\"text-align: right;\">\n",
       "      <th></th>\n",
       "      <th>seriousdlqin2yrs</th>\n",
       "      <th>revolvingutilizationofunsecuredlines</th>\n",
       "      <th>age</th>\n",
       "      <th>numberoftime3059dayspastduenotworse</th>\n",
       "      <th>debtratio</th>\n",
       "      <th>monthlyincome</th>\n",
       "      <th>numberofopencreditlinesandloans</th>\n",
       "      <th>numberoftimes90dayslate</th>\n",
       "      <th>numberrealestateloansorlines</th>\n",
       "      <th>numberoftime6089dayspastduenotworse</th>\n",
       "      <th>numberofdependents</th>\n",
       "    </tr>\n",
       "  </thead>\n",
       "  <tbody>\n",
       "    <tr>\n",
       "      <th>0</th>\n",
       "      <td>1</td>\n",
       "      <td>0.766127</td>\n",
       "      <td>45</td>\n",
       "      <td>2</td>\n",
       "      <td>0.802982</td>\n",
       "      <td>9120.0</td>\n",
       "      <td>13</td>\n",
       "      <td>0</td>\n",
       "      <td>6</td>\n",
       "      <td>0</td>\n",
       "      <td>2.0</td>\n",
       "    </tr>\n",
       "    <tr>\n",
       "      <th>1</th>\n",
       "      <td>0</td>\n",
       "      <td>0.957151</td>\n",
       "      <td>40</td>\n",
       "      <td>0</td>\n",
       "      <td>0.121876</td>\n",
       "      <td>2600.0</td>\n",
       "      <td>4</td>\n",
       "      <td>0</td>\n",
       "      <td>0</td>\n",
       "      <td>0</td>\n",
       "      <td>1.0</td>\n",
       "    </tr>\n",
       "    <tr>\n",
       "      <th>2</th>\n",
       "      <td>0</td>\n",
       "      <td>0.658180</td>\n",
       "      <td>38</td>\n",
       "      <td>1</td>\n",
       "      <td>0.085113</td>\n",
       "      <td>3042.0</td>\n",
       "      <td>2</td>\n",
       "      <td>1</td>\n",
       "      <td>0</td>\n",
       "      <td>0</td>\n",
       "      <td>0.0</td>\n",
       "    </tr>\n",
       "    <tr>\n",
       "      <th>3</th>\n",
       "      <td>0</td>\n",
       "      <td>0.233810</td>\n",
       "      <td>30</td>\n",
       "      <td>0</td>\n",
       "      <td>0.036050</td>\n",
       "      <td>3300.0</td>\n",
       "      <td>5</td>\n",
       "      <td>0</td>\n",
       "      <td>0</td>\n",
       "      <td>0</td>\n",
       "      <td>0.0</td>\n",
       "    </tr>\n",
       "    <tr>\n",
       "      <th>4</th>\n",
       "      <td>0</td>\n",
       "      <td>0.907239</td>\n",
       "      <td>49</td>\n",
       "      <td>1</td>\n",
       "      <td>0.024926</td>\n",
       "      <td>63588.0</td>\n",
       "      <td>7</td>\n",
       "      <td>0</td>\n",
       "      <td>1</td>\n",
       "      <td>0</td>\n",
       "      <td>0.0</td>\n",
       "    </tr>\n",
       "  </tbody>\n",
       "</table>\n",
       "</div>"
      ],
      "text/plain": [
       "   seriousdlqin2yrs  revolvingutilizationofunsecuredlines  age  \\\n",
       "0                 1                              0.766127   45   \n",
       "1                 0                              0.957151   40   \n",
       "2                 0                              0.658180   38   \n",
       "3                 0                              0.233810   30   \n",
       "4                 0                              0.907239   49   \n",
       "\n",
       "   numberoftime3059dayspastduenotworse  debtratio  monthlyincome  \\\n",
       "0                                    2   0.802982         9120.0   \n",
       "1                                    0   0.121876         2600.0   \n",
       "2                                    1   0.085113         3042.0   \n",
       "3                                    0   0.036050         3300.0   \n",
       "4                                    1   0.024926        63588.0   \n",
       "\n",
       "   numberofopencreditlinesandloans  numberoftimes90dayslate  \\\n",
       "0                               13                        0   \n",
       "1                                4                        0   \n",
       "2                                2                        1   \n",
       "3                                5                        0   \n",
       "4                                7                        0   \n",
       "\n",
       "   numberrealestateloansorlines  numberoftime6089dayspastduenotworse  \\\n",
       "0                             6                                    0   \n",
       "1                             0                                    0   \n",
       "2                             0                                    0   \n",
       "3                             0                                    0   \n",
       "4                             1                                    0   \n",
       "\n",
       "   numberofdependents  \n",
       "0                 2.0  \n",
       "1                 1.0  \n",
       "2                 0.0  \n",
       "3                 0.0  \n",
       "4                 0.0  "
      ]
     },
     "execution_count": 44,
     "metadata": {},
     "output_type": "execute_result"
    }
   ],
   "source": [
    "train_data.head()"
   ]
  },
  {
   "cell_type": "code",
   "execution_count": 45,
   "metadata": {
    "colab": {
     "base_uri": "https://localhost:8080/",
     "height": 304
    },
    "colab_type": "code",
    "executionInfo": {
     "elapsed": 7497,
     "status": "ok",
     "timestamp": 1586441169442,
     "user": {
      "displayName": "Gaurav Rawal",
      "photoUrl": "",
      "userId": "15788189003675721616"
     },
     "user_tz": -330
    },
    "id": "pYNupq4oM36y",
    "outputId": "41da3dd6-ec71-4ca1-f862-92d9d68a85af"
   },
   "outputs": [
    {
     "data": {
      "text/html": [
       "<div>\n",
       "<style scoped>\n",
       "    .dataframe tbody tr th:only-of-type {\n",
       "        vertical-align: middle;\n",
       "    }\n",
       "\n",
       "    .dataframe tbody tr th {\n",
       "        vertical-align: top;\n",
       "    }\n",
       "\n",
       "    .dataframe thead th {\n",
       "        text-align: right;\n",
       "    }\n",
       "</style>\n",
       "<table border=\"1\" class=\"dataframe\">\n",
       "  <thead>\n",
       "    <tr style=\"text-align: right;\">\n",
       "      <th></th>\n",
       "      <th>revolvingutilizationofunsecuredlines</th>\n",
       "      <th>age</th>\n",
       "      <th>numberoftime3059dayspastduenotworse</th>\n",
       "      <th>debtratio</th>\n",
       "      <th>monthlyincome</th>\n",
       "      <th>numberofopencreditlinesandloans</th>\n",
       "      <th>numberoftimes90dayslate</th>\n",
       "      <th>numberrealestateloansorlines</th>\n",
       "      <th>numberoftime6089dayspastduenotworse</th>\n",
       "      <th>numberofdependents</th>\n",
       "    </tr>\n",
       "  </thead>\n",
       "  <tbody>\n",
       "    <tr>\n",
       "      <th>0</th>\n",
       "      <td>0.885519</td>\n",
       "      <td>43</td>\n",
       "      <td>0</td>\n",
       "      <td>0.177513</td>\n",
       "      <td>5700.0</td>\n",
       "      <td>4</td>\n",
       "      <td>0</td>\n",
       "      <td>0</td>\n",
       "      <td>0</td>\n",
       "      <td>0.0</td>\n",
       "    </tr>\n",
       "    <tr>\n",
       "      <th>1</th>\n",
       "      <td>0.463295</td>\n",
       "      <td>57</td>\n",
       "      <td>0</td>\n",
       "      <td>0.527237</td>\n",
       "      <td>9141.0</td>\n",
       "      <td>15</td>\n",
       "      <td>0</td>\n",
       "      <td>4</td>\n",
       "      <td>0</td>\n",
       "      <td>2.0</td>\n",
       "    </tr>\n",
       "    <tr>\n",
       "      <th>2</th>\n",
       "      <td>0.043275</td>\n",
       "      <td>59</td>\n",
       "      <td>0</td>\n",
       "      <td>0.687648</td>\n",
       "      <td>5083.0</td>\n",
       "      <td>12</td>\n",
       "      <td>0</td>\n",
       "      <td>1</td>\n",
       "      <td>0</td>\n",
       "      <td>2.0</td>\n",
       "    </tr>\n",
       "    <tr>\n",
       "      <th>3</th>\n",
       "      <td>0.280308</td>\n",
       "      <td>38</td>\n",
       "      <td>1</td>\n",
       "      <td>0.925961</td>\n",
       "      <td>3200.0</td>\n",
       "      <td>7</td>\n",
       "      <td>0</td>\n",
       "      <td>2</td>\n",
       "      <td>0</td>\n",
       "      <td>0.0</td>\n",
       "    </tr>\n",
       "    <tr>\n",
       "      <th>4</th>\n",
       "      <td>1.000000</td>\n",
       "      <td>27</td>\n",
       "      <td>0</td>\n",
       "      <td>0.019917</td>\n",
       "      <td>3865.0</td>\n",
       "      <td>4</td>\n",
       "      <td>0</td>\n",
       "      <td>0</td>\n",
       "      <td>0</td>\n",
       "      <td>1.0</td>\n",
       "    </tr>\n",
       "  </tbody>\n",
       "</table>\n",
       "</div>"
      ],
      "text/plain": [
       "   revolvingutilizationofunsecuredlines  age  \\\n",
       "0                              0.885519   43   \n",
       "1                              0.463295   57   \n",
       "2                              0.043275   59   \n",
       "3                              0.280308   38   \n",
       "4                              1.000000   27   \n",
       "\n",
       "   numberoftime3059dayspastduenotworse  debtratio  monthlyincome  \\\n",
       "0                                    0   0.177513         5700.0   \n",
       "1                                    0   0.527237         9141.0   \n",
       "2                                    0   0.687648         5083.0   \n",
       "3                                    1   0.925961         3200.0   \n",
       "4                                    0   0.019917         3865.0   \n",
       "\n",
       "   numberofopencreditlinesandloans  numberoftimes90dayslate  \\\n",
       "0                                4                        0   \n",
       "1                               15                        0   \n",
       "2                               12                        0   \n",
       "3                                7                        0   \n",
       "4                                4                        0   \n",
       "\n",
       "   numberrealestateloansorlines  numberoftime6089dayspastduenotworse  \\\n",
       "0                             0                                    0   \n",
       "1                             4                                    0   \n",
       "2                             1                                    0   \n",
       "3                             2                                    0   \n",
       "4                             0                                    0   \n",
       "\n",
       "   numberofdependents  \n",
       "0                 0.0  \n",
       "1                 2.0  \n",
       "2                 2.0  \n",
       "3                 0.0  \n",
       "4                 1.0  "
      ]
     },
     "execution_count": 45,
     "metadata": {},
     "output_type": "execute_result"
    }
   ],
   "source": [
    "test_data.head()"
   ]
  },
  {
   "cell_type": "code",
   "execution_count": 46,
   "metadata": {
    "colab": {
     "base_uri": "https://localhost:8080/",
     "height": 319
    },
    "colab_type": "code",
    "executionInfo": {
     "elapsed": 7471,
     "status": "ok",
     "timestamp": 1586441169443,
     "user": {
      "displayName": "Gaurav Rawal",
      "photoUrl": "",
      "userId": "15788189003675721616"
     },
     "user_tz": -330
    },
    "id": "FLyQbxbSM362",
    "outputId": "f23dcb81-a51a-40ce-fdd1-4500af2dae53"
   },
   "outputs": [
    {
     "name": "stdout",
     "output_type": "stream",
     "text": [
      "<class 'pandas.core.frame.DataFrame'>\n",
      "RangeIndex: 150000 entries, 0 to 149999\n",
      "Data columns (total 11 columns):\n",
      "seriousdlqin2yrs                        150000 non-null int64\n",
      "revolvingutilizationofunsecuredlines    150000 non-null float64\n",
      "age                                     150000 non-null int64\n",
      "numberoftime3059dayspastduenotworse     150000 non-null int64\n",
      "debtratio                               150000 non-null float64\n",
      "monthlyincome                           120269 non-null float64\n",
      "numberofopencreditlinesandloans         150000 non-null int64\n",
      "numberoftimes90dayslate                 150000 non-null int64\n",
      "numberrealestateloansorlines            150000 non-null int64\n",
      "numberoftime6089dayspastduenotworse     150000 non-null int64\n",
      "numberofdependents                      146076 non-null float64\n",
      "dtypes: float64(4), int64(7)\n",
      "memory usage: 12.6 MB\n"
     ]
    }
   ],
   "source": [
    "train_data.info()"
   ]
  },
  {
   "cell_type": "code",
   "execution_count": 47,
   "metadata": {
    "colab": {},
    "colab_type": "code",
    "id": "Ul4Q4p6PM368"
   },
   "outputs": [],
   "source": [
    "train_data['target']=train_data['seriousdlqin2yrs']\n",
    "train_data.drop('seriousdlqin2yrs',axis=1,inplace=True)"
   ]
  },
  {
   "cell_type": "code",
   "execution_count": 48,
   "metadata": {
    "colab": {
     "base_uri": "https://localhost:8080/",
     "height": 67
    },
    "colab_type": "code",
    "executionInfo": {
     "elapsed": 7441,
     "status": "ok",
     "timestamp": 1586441169447,
     "user": {
      "displayName": "Gaurav Rawal",
      "photoUrl": "",
      "userId": "15788189003675721616"
     },
     "user_tz": -330
    },
    "id": "YsKF6CqWM37B",
    "outputId": "2bea15df-f08b-421a-f621-bf885dcee3ee"
   },
   "outputs": [
    {
     "data": {
      "text/plain": [
       "0    139974\n",
       "1     10026\n",
       "Name: target, dtype: int64"
      ]
     },
     "execution_count": 48,
     "metadata": {},
     "output_type": "execute_result"
    }
   ],
   "source": [
    "train_data.target.value_counts()"
   ]
  },
  {
   "cell_type": "code",
   "execution_count": 49,
   "metadata": {
    "colab": {
     "base_uri": "https://localhost:8080/",
     "height": 302
    },
    "colab_type": "code",
    "executionInfo": {
     "elapsed": 7414,
     "status": "ok",
     "timestamp": 1586441169449,
     "user": {
      "displayName": "Gaurav Rawal",
      "photoUrl": "",
      "userId": "15788189003675721616"
     },
     "user_tz": -330
    },
    "id": "MIWwegWxM37G",
    "outputId": "b2a00045-38f6-4049-93df-fbb727111788"
   },
   "outputs": [
    {
     "data": {
      "text/plain": [
       "Text(0,0.5,'Numbers of records')"
      ]
     },
     "execution_count": 49,
     "metadata": {},
     "output_type": "execute_result"
    },
    {
     "data": {
      "image/png": "[encoded data removed]",
      "text/plain": [
       "<Figure size 432x288 with 1 Axes>"
      ]
     },
     "metadata": {},
     "output_type": "display_data"
    }
   ],
   "source": [
    "sns.set()\n",
    "sns.countplot(train_data['target'])\n",
    "ax = plt.gca()\n",
    "ax.set_xlabel(\"Labels for Target attribute\")\n",
    "ax.set_ylabel(\"Numbers of records\")"
   ]
  },
  {
   "cell_type": "code",
   "execution_count": 50,
   "metadata": {
    "colab": {
     "base_uri": "https://localhost:8080/",
     "height": 218
    },
    "colab_type": "code",
    "executionInfo": {
     "elapsed": 7393,
     "status": "ok",
     "timestamp": 1586441169452,
     "user": {
      "displayName": "Gaurav Rawal",
      "photoUrl": "",
      "userId": "15788189003675721616"
     },
     "user_tz": -330
    },
    "id": "zG2osSviM37M",
    "outputId": "5035c757-a2c2-415d-8f58-15168da1bd5f"
   },
   "outputs": [
    {
     "data": {
      "text/plain": [
       "revolvingutilizationofunsecuredlines        0\n",
       "age                                         0\n",
       "numberoftime3059dayspastduenotworse         0\n",
       "debtratio                                   0\n",
       "monthlyincome                           29731\n",
       "numberofopencreditlinesandloans             0\n",
       "numberoftimes90dayslate                     0\n",
       "numberrealestateloansorlines                0\n",
       "numberoftime6089dayspastduenotworse         0\n",
       "numberofdependents                       3924\n",
       "target                                      0\n",
       "dtype: int64"
      ]
     },
     "execution_count": 50,
     "metadata": {},
     "output_type": "execute_result"
    }
   ],
   "source": [
    "train_data.isnull().sum()"
   ]
  },
  {
   "cell_type": "code",
   "execution_count": 51,
   "metadata": {
    "colab": {
     "base_uri": "https://localhost:8080/",
     "height": 503
    },
    "colab_type": "code",
    "executionInfo": {
     "elapsed": 8304,
     "status": "ok",
     "timestamp": 1586441170386,
     "user": {
      "displayName": "Gaurav Rawal",
      "photoUrl": "",
      "userId": "15788189003675721616"
     },
     "user_tz": -330
    },
    "id": "8pMH5Iz6M37R",
    "outputId": "3d0fb53b-1151-4da4-fceb-6734f9301c8c"
   },
   "outputs": [
    {
     "data": {
      "image/png": "[encoded data removed]",
      "text/plain": [
       "<Figure size 432x288 with 1 Axes>"
      ]
     },
     "metadata": {},
     "output_type": "display_data"
    }
   ],
   "source": [
    "sns.barplot(x=train_data.isnull().sum().index,y=train_data.isnull().sum().values)\n",
    "ax = plt.gca()\n",
    "ax.set_xlabel(\"Data Attributes\")\n",
    "ax.set_ylabel(\"Count of missing Records\")\n",
    "plt.xticks(rotation=90)\n",
    "plt.show()"
   ]
  },
  {
   "cell_type": "code",
   "execution_count": 52,
   "metadata": {
    "colab": {},
    "colab_type": "code",
    "id": "QzU3b5P-M37Y"
   },
   "outputs": [],
   "source": [
    "train_data_mean=train_data.fillna(train_data.mean())"
   ]
  },
  {
   "cell_type": "code",
   "execution_count": 53,
   "metadata": {
    "colab": {
     "base_uri": "https://localhost:8080/",
     "height": 218
    },
    "colab_type": "code",
    "executionInfo": {
     "elapsed": 8226,
     "status": "ok",
     "timestamp": 1586441170399,
     "user": {
      "displayName": "Gaurav Rawal",
      "photoUrl": "",
      "userId": "15788189003675721616"
     },
     "user_tz": -330
    },
    "id": "mF3y8gJBM37f",
    "outputId": "b850500b-3376-4656-c3e4-e3f01706a9e3"
   },
   "outputs": [
    {
     "data": {
      "text/plain": [
       "revolvingutilizationofunsecuredlines    0\n",
       "age                                     0\n",
       "numberoftime3059dayspastduenotworse     0\n",
       "debtratio                               0\n",
       "monthlyincome                           0\n",
       "numberofopencreditlinesandloans         0\n",
       "numberoftimes90dayslate                 0\n",
       "numberrealestateloansorlines            0\n",
       "numberoftime6089dayspastduenotworse     0\n",
       "numberofdependents                      0\n",
       "target                                  0\n",
       "dtype: int64"
      ]
     },
     "execution_count": 53,
     "metadata": {},
     "output_type": "execute_result"
    }
   ],
   "source": [
    "train_data_mean.isnull().sum()"
   ]
  },
  {
   "cell_type": "code",
   "execution_count": 54,
   "metadata": {
    "colab": {},
    "colab_type": "code",
    "id": "s8FqxblRM37i"
   },
   "outputs": [],
   "source": [
    "train_data_median=train_data.fillna(train_data.median())"
   ]
  },
  {
   "cell_type": "code",
   "execution_count": 55,
   "metadata": {
    "colab": {
     "base_uri": "https://localhost:8080/",
     "height": 490
    },
    "colab_type": "code",
    "executionInfo": {
     "elapsed": 9517,
     "status": "ok",
     "timestamp": 1586441171744,
     "user": {
      "displayName": "Gaurav Rawal",
      "photoUrl": "",
      "userId": "15788189003675721616"
     },
     "user_tz": -330
    },
    "id": "EBpRnuXHM37m",
    "outputId": "747d4b21-b851-49d2-bbbc-100f4b0f69b7"
   },
   "outputs": [
    {
     "data": {
      "image/png": "[encoded data removed]",
      "text/plain": [
       "<Figure size 432x288 with 2 Axes>"
      ]
     },
     "metadata": {},
     "output_type": "display_data"
    }
   ],
   "source": [
    "sns.set()\n",
    "sns.heatmap(train_data_median[train_data_median.columns[1:]].corr(),annot=True,fmt=\".1f\",\n",
    "            cmap=(sns.cubehelix_palette(8, start=.5, rot=-.75)))\n",
    "plt.show()"
   ]
  },
  {
   "cell_type": "code",
   "execution_count": 56,
   "metadata": {
    "colab": {
     "base_uri": "https://localhost:8080/",
     "height": 118
    },
    "colab_type": "code",
    "executionInfo": {
     "elapsed": 9488,
     "status": "ok",
     "timestamp": 1586441171745,
     "user": {
      "displayName": "Gaurav Rawal",
      "photoUrl": "",
      "userId": "15788189003675721616"
     },
     "user_tz": -330
    },
    "id": "HuJPYqhoM37r",
    "outputId": "40855112-051e-42e4-e9f7-47e649a93026"
   },
   "outputs": [
    {
     "data": {
      "text/plain": [
       "Index(['revolvingutilizationofunsecuredlines', 'age',\n",
       "       'numberoftime3059dayspastduenotworse', 'debtratio', 'monthlyincome',\n",
       "       'numberofopencreditlinesandloans', 'numberoftimes90dayslate',\n",
       "       'numberrealestateloansorlines', 'numberoftime6089dayspastduenotworse',\n",
       "       'numberofdependents', 'target'],\n",
       "      dtype='object')"
      ]
     },
     "execution_count": 56,
     "metadata": {},
     "output_type": "execute_result"
    }
   ],
   "source": [
    "train_data_median.columns"
   ]
  },
  {
   "cell_type": "code",
   "execution_count": 57,
   "metadata": {
    "colab": {},
    "colab_type": "code",
    "id": "JeLcWDtzM373"
   },
   "outputs": [],
   "source": [
    "# Percentile based outlier detection\n",
    "#def percentile_based_outlier(data, threshold=95):\n",
    "#   diff = (100 - threshold) / 2.0\n",
    "#   (minval, maxval) = np.percentile(data, [diff, 100 - diff])\n",
    "#   return ((data < minval) | (data > maxval))\n",
    "\n",
    "# Another percentile based outlier detection method which is based on inter quertile(IQR) range\n",
    "import numpy as np\n",
    "def outliers_iqr(data):\n",
    "    Q1 = data.quantile(0.25)\n",
    "    Q3 = data.quantile(0.75)\n",
    "    IQR = Q3 - Q1\n",
    "    print(data[((data < (Q1 - 1.5 * IQR)) | (data > (Q3 + 1.5 * IQR)))])\n",
    "    return data[((data < (Q1 - 1.5 * IQR)) | (data > (Q3 + 1.5 * IQR)))]\n"
   ]
  },
  {
   "cell_type": "code",
   "execution_count": 58,
   "metadata": {
    "colab": {},
    "colab_type": "code",
    "id": "OLkSjuoyM378"
   },
   "outputs": [],
   "source": [
    "def mad_based_outlier(points, threshold=3.5):\n",
    "    median_y = np.median(points)\n",
    "    median_absolute_deviation_y = np.median([np.abs(y - median_y) for y in points])\n",
    "    modified_z_scores = [0.6745 * (y - median_y) / median_absolute_deviation_y\n",
    "                         for y in points]\n",
    "\n",
    "    return np.abs(modified_z_scores) > threshold\n",
    "#mad_based_outlier(points=training_data.age)"
   ]
  },
  {
   "cell_type": "code",
   "execution_count": 59,
   "metadata": {
    "colab": {},
    "colab_type": "code",
    "id": "BAWZbYNqM37_"
   },
   "outputs": [],
   "source": [
    "def std_div(data, threshold=3):\n",
    "    std = data.std()\n",
    "    mean = data.mean()\n",
    "    isOutlier = []\n",
    "    for val in data:\n",
    "        if val/std > threshold:\n",
    "            isOutlier.append(True)\n",
    "        else:\n",
    "            isOutlier.append(False)\n",
    "    return isOutlier\n",
    "#std_div(data=training_data.age)"
   ]
  },
  {
   "cell_type": "code",
   "execution_count": 60,
   "metadata": {
    "colab": {
     "base_uri": "https://localhost:8080/",
     "height": 286
    },
    "colab_type": "code",
    "executionInfo": {
     "elapsed": 9413,
     "status": "ok",
     "timestamp": 1586441171754,
     "user": {
      "displayName": "Gaurav Rawal",
      "photoUrl": "",
      "userId": "15788189003675721616"
     },
     "user_tz": -330
    },
    "id": "YRmiES9LM38D",
    "outputId": "7a676782-1417-42b7-fb9c-eec27da5a059"
   },
   "outputs": [
    {
     "name": "stdout",
     "output_type": "stream",
     "text": [
      "<class 'pandas.core.frame.DataFrame'>\n",
      "RangeIndex: 150000 entries, 0 to 149999\n",
      "Data columns (total 11 columns):\n",
      "revolvingutilizationofunsecuredlines    150000 non-null float64\n",
      "age                                     150000 non-null int64\n",
      "numberoftime3059dayspastduenotworse     150000 non-null int64\n",
      "debtratio                               150000 non-null float64\n",
      "monthlyincome                           150000 non-null float64\n",
      "numberofopencreditlinesandloans         150000 non-null int64\n",
      "numberoftimes90dayslate                 150000 non-null int64\n",
      "numberrealestateloansorlines            150000 non-null int64\n",
      "numberoftime6089dayspastduenotworse     150000 non-null int64\n",
      "numberofdependents                      150000 non-null float64\n",
      "target                                  150000 non-null int64\n",
      "dtypes: float64(4), int64(7)\n",
      "memory usage: 12.6 MB\n"
     ]
    }
   ],
   "source": [
    "train_data_median.info()"
   ]
  },
  {
   "cell_type": "code",
   "execution_count": 61,
   "metadata": {
    "colab": {},
    "colab_type": "code",
    "id": "ckmoA-d_M38G"
   },
   "outputs": [],
   "source": [
    "target_df=train_data_median['target']\n",
    "train_data_median.drop(['target'],axis=1,inplace=True)\n",
    "features=train_data_median.columns"
   ]
  },
  {
   "cell_type": "code",
   "execution_count": 62,
   "metadata": {
    "colab": {},
    "colab_type": "code",
    "id": "dS39ccFsM38J"
   },
   "outputs": [],
   "source": [
    "Q1 = train_data_median.quantile(0.25)\n",
    "Q3 = train_data_median.quantile(0.75)\n",
    "IQR = Q3 - Q1\n",
    "train_df=train_data_median[~((train_data_median < (Q1 - 1.5 * IQR)) |(train_data_median > (Q3 + 1.5 * IQR))).any(axis=1)]"
   ]
  },
  {
   "cell_type": "code",
   "execution_count": 80,
   "metadata": {
    "colab": {
     "base_uri": "https://localhost:8080/",
     "height": 304
    },
    "colab_type": "code",
    "executionInfo": {
     "elapsed": 9362,
     "status": "ok",
     "timestamp": 1586441171758,
     "user": {
      "displayName": "Gaurav Rawal",
      "photoUrl": "",
      "userId": "15788189003675721616"
     },
     "user_tz": -330
    },
    "id": "GlZ0e_7wM38N",
    "outputId": "fbb77a74-c704-480f-c304-7461bba9b674"
   },
   "outputs": [
    {
     "data": {
      "text/html": [
       "<div>\n",
       "<style scoped>\n",
       "    .dataframe tbody tr th:only-of-type {\n",
       "        vertical-align: middle;\n",
       "    }\n",
       "\n",
       "    .dataframe tbody tr th {\n",
       "        vertical-align: top;\n",
       "    }\n",
       "\n",
       "    .dataframe thead th {\n",
       "        text-align: right;\n",
       "    }\n",
       "</style>\n",
       "<table border=\"1\" class=\"dataframe\">\n",
       "  <thead>\n",
       "    <tr style=\"text-align: right;\">\n",
       "      <th></th>\n",
       "      <th>revolvingutilizationofunsecuredlines</th>\n",
       "      <th>age</th>\n",
       "      <th>numberoftime3059dayspastduenotworse</th>\n",
       "      <th>debtratio</th>\n",
       "      <th>monthlyincome</th>\n",
       "      <th>numberofopencreditlinesandloans</th>\n",
       "      <th>numberoftimes90dayslate</th>\n",
       "      <th>numberrealestateloansorlines</th>\n",
       "      <th>numberoftime6089dayspastduenotworse</th>\n",
       "      <th>numberofdependents</th>\n",
       "    </tr>\n",
       "  </thead>\n",
       "  <tbody>\n",
       "    <tr>\n",
       "      <th>count</th>\n",
       "      <td>76359.000000</td>\n",
       "      <td>76359.000000</td>\n",
       "      <td>76359.0</td>\n",
       "      <td>76359.000000</td>\n",
       "      <td>76359.000000</td>\n",
       "      <td>76359.000000</td>\n",
       "      <td>76359.0</td>\n",
       "      <td>76359.000000</td>\n",
       "      <td>76359.0</td>\n",
       "      <td>76359.000000</td>\n",
       "    </tr>\n",
       "    <tr>\n",
       "      <th>mean</th>\n",
       "      <td>0.273730</td>\n",
       "      <td>52.645569</td>\n",
       "      <td>0.0</td>\n",
       "      <td>0.322862</td>\n",
       "      <td>5507.662528</td>\n",
       "      <td>7.986013</td>\n",
       "      <td>0.0</td>\n",
       "      <td>0.906822</td>\n",
       "      <td>0.0</td>\n",
       "      <td>0.512081</td>\n",
       "    </tr>\n",
       "    <tr>\n",
       "      <th>std</th>\n",
       "      <td>0.323685</td>\n",
       "      <td>15.529127</td>\n",
       "      <td>0.0</td>\n",
       "      <td>0.287615</td>\n",
       "      <td>2783.556371</td>\n",
       "      <td>4.301881</td>\n",
       "      <td>0.0</td>\n",
       "      <td>0.931646</td>\n",
       "      <td>0.0</td>\n",
       "      <td>0.740787</td>\n",
       "    </tr>\n",
       "    <tr>\n",
       "      <th>min</th>\n",
       "      <td>0.000000</td>\n",
       "      <td>21.000000</td>\n",
       "      <td>0.0</td>\n",
       "      <td>0.000000</td>\n",
       "      <td>0.000000</td>\n",
       "      <td>0.000000</td>\n",
       "      <td>0.0</td>\n",
       "      <td>0.000000</td>\n",
       "      <td>0.0</td>\n",
       "      <td>0.000000</td>\n",
       "    </tr>\n",
       "    <tr>\n",
       "      <th>25%</th>\n",
       "      <td>0.023732</td>\n",
       "      <td>41.000000</td>\n",
       "      <td>0.0</td>\n",
       "      <td>0.110204</td>\n",
       "      <td>3367.000000</td>\n",
       "      <td>5.000000</td>\n",
       "      <td>0.0</td>\n",
       "      <td>0.000000</td>\n",
       "      <td>0.0</td>\n",
       "      <td>0.000000</td>\n",
       "    </tr>\n",
       "    <tr>\n",
       "      <th>50%</th>\n",
       "      <td>0.117768</td>\n",
       "      <td>53.000000</td>\n",
       "      <td>0.0</td>\n",
       "      <td>0.272168</td>\n",
       "      <td>5116.000000</td>\n",
       "      <td>7.000000</td>\n",
       "      <td>0.0</td>\n",
       "      <td>1.000000</td>\n",
       "      <td>0.0</td>\n",
       "      <td>0.000000</td>\n",
       "    </tr>\n",
       "    <tr>\n",
       "      <th>75%</th>\n",
       "      <td>0.440113</td>\n",
       "      <td>64.000000</td>\n",
       "      <td>0.0</td>\n",
       "      <td>0.451463</td>\n",
       "      <td>7360.000000</td>\n",
       "      <td>11.000000</td>\n",
       "      <td>0.0</td>\n",
       "      <td>1.000000</td>\n",
       "      <td>0.0</td>\n",
       "      <td>1.000000</td>\n",
       "    </tr>\n",
       "    <tr>\n",
       "      <th>max</th>\n",
       "      <td>1.341700</td>\n",
       "      <td>96.000000</td>\n",
       "      <td>0.0</td>\n",
       "      <td>1.905547</td>\n",
       "      <td>12644.000000</td>\n",
       "      <td>20.000000</td>\n",
       "      <td>0.0</td>\n",
       "      <td>5.000000</td>\n",
       "      <td>0.0</td>\n",
       "      <td>2.000000</td>\n",
       "    </tr>\n",
       "  </tbody>\n",
       "</table>\n",
       "</div>"
      ],
      "text/plain": [
       "       revolvingutilizationofunsecuredlines           age  \\\n",
       "count                          76359.000000  76359.000000   \n",
       "mean                               0.273730     52.645569   \n",
       "std                                0.323685     15.529127   \n",
       "min                                0.000000     21.000000   \n",
       "25%                                0.023732     41.000000   \n",
       "50%                                0.117768     53.000000   \n",
       "75%                                0.440113     64.000000   \n",
       "max                                1.341700     96.000000   \n",
       "\n",
       "       numberoftime3059dayspastduenotworse     debtratio  monthlyincome  \\\n",
       "count                              76359.0  76359.000000   76359.000000   \n",
       "mean                                   0.0      0.322862    5507.662528   \n",
       "std                                    0.0      0.287615    2783.556371   \n",
       "min                                    0.0      0.000000       0.000000   \n",
       "25%                                    0.0      0.110204    3367.000000   \n",
       "50%                                    0.0      0.272168    5116.000000   \n",
       "75%                                    0.0      0.451463    7360.000000   \n",
       "max                                    0.0      1.905547   12644.000000   \n",
       "\n",
       "       numberofopencreditlinesandloans  numberoftimes90dayslate  \\\n",
       "count                     76359.000000                  76359.0   \n",
       "mean                          7.986013                      0.0   \n",
       "std                           4.301881                      0.0   \n",
       "min                           0.000000                      0.0   \n",
       "25%                           5.000000                      0.0   \n",
       "50%                           7.000000                      0.0   \n",
       "75%                          11.000000                      0.0   \n",
       "max                          20.000000                      0.0   \n",
       "\n",
       "       numberrealestateloansorlines  numberoftime6089dayspastduenotworse  \\\n",
       "count                  76359.000000                              76359.0   \n",
       "mean                       0.906822                                  0.0   \n",
       "std                        0.931646                                  0.0   \n",
       "min                        0.000000                                  0.0   \n",
       "25%                        0.000000                                  0.0   \n",
       "50%                        1.000000                                  0.0   \n",
       "75%                        1.000000                                  0.0   \n",
       "max                        5.000000                                  0.0   \n",
       "\n",
       "       numberofdependents  \n",
       "count        76359.000000  \n",
       "mean             0.512081  \n",
       "std              0.740787  \n",
       "min              0.000000  \n",
       "25%              0.000000  \n",
       "50%              0.000000  \n",
       "75%              1.000000  \n",
       "max              2.000000  "
      ]
     },
     "execution_count": 80,
     "metadata": {},
     "output_type": "execute_result"
    }
   ],
   "source": [
    "train_df.describe()"
   ]
  },
  {
   "cell_type": "code",
   "execution_count": 87,
   "metadata": {
    "colab": {},
    "colab_type": "code",
    "id": "5B2n81DXM38Q"
   },
   "outputs": [
    {
     "name": "stdout",
     "output_type": "stream",
     "text": [
      "[0.19287837 0.1270404  0.04953713 0.18072671 0.14629725 0.08865596\n",
      " 0.09212379 0.03381996 0.04681046 0.04210998]\n"
     ]
    }
   ],
   "source": [
    "from sklearn.ensemble import RandomForestClassifier\n",
    "X_train = train_data_median[features]\n",
    "y_train = target_df\n",
    "features_label = X_train.columns[1:]\n",
    "forest = RandomForestClassifier (n_estimators = 100, random_state=0, n_jobs = -1)\n",
    "forest.fit(X_train,y_train)\n",
    "importances = forest.feature_importances_\n",
    "indices = np.argsort(importances)[::-1]\n"
   ]
  },
  {
   "cell_type": "code",
   "execution_count": 88,
   "metadata": {},
   "outputs": [
    {
     "name": "stdout",
     "output_type": "stream",
     "text": [
      "[0.19287837 0.1270404  0.04953713 0.18072671 0.14629725 0.08865596\n",
      " 0.09212379 0.03381996 0.04681046 0.04210998]\n"
     ]
    }
   ],
   "source": [
    "print(importances)"
   ]
  },
  {
   "cell_type": "code",
   "execution_count": 84,
   "metadata": {
    "colab": {
     "base_uri": "https://localhost:8080/",
     "height": 134
    },
    "colab_type": "code",
    "executionInfo": {
     "elapsed": 1488,
     "status": "ok",
     "timestamp": 1586441219928,
     "user": {
      "displayName": "Gaurav Rawal",
      "photoUrl": "",
      "userId": "15788189003675721616"
     },
     "user_tz": -330
    },
    "id": "RGrQy1SCM38V",
    "outputId": "2f59331f-3cf8-4f11-bdef-0852bf8d85c4"
   },
   "outputs": [
    {
     "name": "stdout",
     "output_type": "stream",
     "text": [
      "age 0.19287837083989617\n",
      "numberoftime3059dayspastduenotworse 0.1807267138476324\n",
      "debtratio 0.14629724562374516\n",
      "monthlyincome 0.1270403959750276\n",
      "numberofopencreditlinesandloans 0.09212379273622505\n",
      "numberoftimes90dayslate 0.08865595749778428\n",
      "numberrealestateloansorlines 0.0495371253556083\n",
      "numberoftime6089dayspastduenotworse 0.046810456471329226\n",
      "numberofdependents 0.04210998160312606\n"
     ]
    }
   ],
   "source": [
    "for i in range((X_train.shape[1])-1):\n",
    "    print (features_label[i],importances[indices[i]])"
   ]
  },
  {
   "cell_type": "code",
   "execution_count": 66,
   "metadata": {
    "colab": {
     "base_uri": "https://localhost:8080/",
     "height": 463
    },
    "colab_type": "code",
    "executionInfo": {
     "elapsed": 1341,
     "status": "ok",
     "timestamp": 1586441251763,
     "user": {
      "displayName": "Gaurav Rawal",
      "photoUrl": "",
      "userId": "15788189003675721616"
     },
     "user_tz": -330
    },
    "id": "kIjzLiG2M38Y",
    "outputId": "1ccaaef6-791b-4cb6-f3c4-929fcf9d06bb"
   },
   "outputs": [
    {
     "data": {
      "image/png": "[encoded data removed]",
      "text/plain": [
       "<Figure size 432x288 with 1 Axes>"
      ]
     },
     "metadata": {},
     "output_type": "display_data"
    }
   ],
   "source": [
    "plt.title('Feature Importances')\n",
    "plt.bar(range(X_train.shape[1]),importances[indices], color=\"green\", align=\"center\")\n",
    "plt.xticks(range(X_train.shape[1]),features_label, rotation=90)\n",
    "plt.xlim([-1, X_train.shape[1]])\n",
    "plt.show()"
   ]
  },
  {
   "cell_type": "code",
   "execution_count": 96,
   "metadata": {},
   "outputs": [
    {
     "data": {
      "text/html": [
       "<div>\n",
       "<style scoped>\n",
       "    .dataframe tbody tr th:only-of-type {\n",
       "        vertical-align: middle;\n",
       "    }\n",
       "\n",
       "    .dataframe tbody tr th {\n",
       "        vertical-align: top;\n",
       "    }\n",
       "\n",
       "    .dataframe thead th {\n",
       "        text-align: right;\n",
       "    }\n",
       "</style>\n",
       "<table border=\"1\" class=\"dataframe\">\n",
       "  <thead>\n",
       "    <tr style=\"text-align: right;\">\n",
       "      <th></th>\n",
       "      <th>revolvingutilizationofunsecuredlines</th>\n",
       "      <th>age</th>\n",
       "      <th>numberoftime3059dayspastduenotworse</th>\n",
       "      <th>debtratio</th>\n",
       "      <th>monthlyincome</th>\n",
       "      <th>numberofopencreditlinesandloans</th>\n",
       "      <th>numberoftimes90dayslate</th>\n",
       "      <th>numberrealestateloansorlines</th>\n",
       "      <th>numberoftime6089dayspastduenotworse</th>\n",
       "      <th>numberofdependents</th>\n",
       "      <th>target</th>\n",
       "    </tr>\n",
       "  </thead>\n",
       "  <tbody>\n",
       "    <tr>\n",
       "      <th>0</th>\n",
       "      <td>0.766127</td>\n",
       "      <td>45</td>\n",
       "      <td>2</td>\n",
       "      <td>0.802982</td>\n",
       "      <td>9120.0</td>\n",
       "      <td>13</td>\n",
       "      <td>0</td>\n",
       "      <td>6</td>\n",
       "      <td>0</td>\n",
       "      <td>2.0</td>\n",
       "      <td>1</td>\n",
       "    </tr>\n",
       "    <tr>\n",
       "      <th>1</th>\n",
       "      <td>0.957151</td>\n",
       "      <td>40</td>\n",
       "      <td>0</td>\n",
       "      <td>0.121876</td>\n",
       "      <td>2600.0</td>\n",
       "      <td>4</td>\n",
       "      <td>0</td>\n",
       "      <td>0</td>\n",
       "      <td>0</td>\n",
       "      <td>1.0</td>\n",
       "      <td>0</td>\n",
       "    </tr>\n",
       "    <tr>\n",
       "      <th>2</th>\n",
       "      <td>0.658180</td>\n",
       "      <td>38</td>\n",
       "      <td>1</td>\n",
       "      <td>0.085113</td>\n",
       "      <td>3042.0</td>\n",
       "      <td>2</td>\n",
       "      <td>1</td>\n",
       "      <td>0</td>\n",
       "      <td>0</td>\n",
       "      <td>0.0</td>\n",
       "      <td>0</td>\n",
       "    </tr>\n",
       "    <tr>\n",
       "      <th>3</th>\n",
       "      <td>0.233810</td>\n",
       "      <td>30</td>\n",
       "      <td>0</td>\n",
       "      <td>0.036050</td>\n",
       "      <td>3300.0</td>\n",
       "      <td>5</td>\n",
       "      <td>0</td>\n",
       "      <td>0</td>\n",
       "      <td>0</td>\n",
       "      <td>0.0</td>\n",
       "      <td>0</td>\n",
       "    </tr>\n",
       "    <tr>\n",
       "      <th>4</th>\n",
       "      <td>0.907239</td>\n",
       "      <td>49</td>\n",
       "      <td>1</td>\n",
       "      <td>0.024926</td>\n",
       "      <td>63588.0</td>\n",
       "      <td>7</td>\n",
       "      <td>0</td>\n",
       "      <td>1</td>\n",
       "      <td>0</td>\n",
       "      <td>0.0</td>\n",
       "      <td>0</td>\n",
       "    </tr>\n",
       "  </tbody>\n",
       "</table>\n",
       "</div>"
      ],
      "text/plain": [
       "   revolvingutilizationofunsecuredlines  age  \\\n",
       "0                              0.766127   45   \n",
       "1                              0.957151   40   \n",
       "2                              0.658180   38   \n",
       "3                              0.233810   30   \n",
       "4                              0.907239   49   \n",
       "\n",
       "   numberoftime3059dayspastduenotworse  debtratio  monthlyincome  \\\n",
       "0                                    2   0.802982         9120.0   \n",
       "1                                    0   0.121876         2600.0   \n",
       "2                                    1   0.085113         3042.0   \n",
       "3                                    0   0.036050         3300.0   \n",
       "4                                    1   0.024926        63588.0   \n",
       "\n",
       "   numberofopencreditlinesandloans  numberoftimes90dayslate  \\\n",
       "0                               13                        0   \n",
       "1                                4                        0   \n",
       "2                                2                        1   \n",
       "3                                5                        0   \n",
       "4                                7                        0   \n",
       "\n",
       "   numberrealestateloansorlines  numberoftime6089dayspastduenotworse  \\\n",
       "0                             6                                    0   \n",
       "1                             0                                    0   \n",
       "2                             0                                    0   \n",
       "3                             0                                    0   \n",
       "4                             1                                    0   \n",
       "\n",
       "   numberofdependents  target  \n",
       "0                 2.0       1  \n",
       "1                 1.0       0  \n",
       "2                 0.0       0  \n",
       "3                 0.0       0  \n",
       "4                 0.0       0  "
      ]
     },
     "execution_count": 96,
     "metadata": {},
     "output_type": "execute_result"
    }
   ],
   "source": [
    "base_data=pd.concat([X_train,y_train],axis=1)\n",
    "base_data.head()"
   ]
  },
  {
   "cell_type": "code",
   "execution_count": 97,
   "metadata": {},
   "outputs": [],
   "source": [
    "base_data.drop(['numberoftimes90dayslate','numberoftime6089dayspastduenotworse'],axis=1,inplace=True)"
   ]
  },
  {
   "cell_type": "code",
   "execution_count": 98,
   "metadata": {
    "colab": {},
    "colab_type": "code",
    "id": "LqY3iBnDM38c"
   },
   "outputs": [],
   "source": [
    "from sklearn.linear_model import LogisticRegression\n",
    "from sklearn.tree import DecisionTreeClassifier\n",
    "from sklearn.svm import SVC\n",
    "from sklearn.tree import ExtraTreeClassifier\n",
    "from sklearn.ensemble import AdaBoostClassifier, GradientBoostingClassifier, RandomForestClassifier\n",
    "from sklearn.neighbors import KNeighborsClassifier\n",
    "from sklearn.model_selection import train_test_split\n",
    "from sklearn.model_selection import RandomizedSearchCV\n",
    "from sklearn.metrics import roc_auc_score\n",
    "\n",
    "def generate_hp_list(model):\n",
    "    C_range=[0.1,1,0.001,0.0001]\n",
    "    if isinstance(model,LogisticRegression):\n",
    "        param_grid={'random_state':[1],\n",
    "                    'fit_intercept':[True,False],\n",
    "                    'penalty':['l1','l2'],\n",
    "                    'C':C_range,\n",
    "                    'class_weight':['balanced']}\n",
    "    if isinstance(model,KNeighborsClassifier):\n",
    "        param_grid={'n_neighbors':[5,10],\n",
    "                    'p':[1,2,3,4,5],\n",
    "                   'class_weight':['balanced']}\n",
    "    if isinstance(model,SVC):\n",
    "        param_grid={'kernel': ['linear', 'rbf'],\n",
    "                    'gamma':[0.1,1,10],\n",
    "                    'C':C_range,\n",
    "                    'class_weight':['balanced']}\n",
    "    if isinstance(model,DecisionTreeClassifier):\n",
    "        param_grid = {'random_state':[1],\n",
    "         'max_depth': [5,10,15,20,25],\n",
    "         'min_samples_split': [2, 5, 10],\n",
    "         'min_samples_leaf': [1, 2, 4],\n",
    "         'max_features': ['auto', 'sqrt'],\n",
    "         'class_weight':['balanced']}\n",
    "    if isinstance(model,RandomForestClassifier):\n",
    "        param_grid = {'random_state':[1],\n",
    "         'bootstrap': [True, False],\n",
    "         'criterion':['gini','entropy'],\n",
    "         'max_depth': [5,10,20],\n",
    "         'max_features': ['auto', 'sqrt'],\n",
    "         'min_samples_leaf': [2,4,6,8,10],\n",
    "         'n_estimators': [25,50,75,100],\n",
    "         'class_weight':['balanced']}\n",
    "    if isinstance(model,ExtraTreeClassifier):\n",
    "        param_grid = {'random_state':[1],\n",
    "         'n_estimators': [25,50,75,100],\n",
    "         'criterion':['gini','entropy'],\n",
    "         'class_weight':['balanced']}\n",
    "    if isinstance(model,GradientBoostingClassifier):\n",
    "        param_grid = {'loss':['deviance','exponential'],\n",
    "         'learning_rate': [0.05,0.1],\n",
    "         'max_depth':[5,10,20],\n",
    "         'n_estimators': [10,25,50]}\n",
    "    if isinstance(model,AdaBoostClassifier):\n",
    "        param_grid = {'n_estimators': [50, 100],\n",
    "         'learning_rate' : [0.01,0.05,0.1,0.3,1],\n",
    "         'algorithm': ['SAMME', 'SAMME.R']}\n",
    "    return param_grid  "
   ]
  },
  {
   "cell_type": "code",
   "execution_count": 99,
   "metadata": {
    "colab": {},
    "colab_type": "code",
    "id": "FVdNa4uqM38f"
   },
   "outputs": [],
   "source": [
    "def hyperparameter_tuner(model,X_train,y_train,hp_list):\n",
    "    \n",
    "    hp_perf=[]\n",
    "    hp_model=RandomizedSearchCV(model,param_distributions=hp_list,n_iter=10,cv=5,n_jobs=-1,scoring='roc_auc')\n",
    "    hp_model.fit(X_train,y_train)\n",
    "    best_hp_model=hp_model.best_estimator_\n",
    "    best_param=hp_model.best_params_\n",
    "    best_score=hp_model.best_score_  \n",
    "   \n",
    "    return best_hp_model,best_param,best_score"
   ]
  },
  {
   "cell_type": "code",
   "execution_count": 100,
   "metadata": {
    "colab": {},
    "colab_type": "code",
    "id": "r5bqnIeQM38p"
   },
   "outputs": [],
   "source": [
    "from sklearn.model_selection import cross_val_score\n",
    "def evaluate_cv_score(model,hparams,scr, X_train, y_train, cv=5, verbose=1):\n",
    "    model_dict={}\n",
    "    model_score = cross_val_score(model, X_train, y_train, cv=cv, verbose=verbose, scoring=scr)\n",
    "    model_mean_score = model_score.mean()\n",
    "    return model_mean_score"
   ]
  },
  {
   "cell_type": "code",
   "execution_count": 101,
   "metadata": {
    "colab": {},
    "colab_type": "code",
    "id": "Bjyf4vWnM38s"
   },
   "outputs": [],
   "source": [
    "def model_tuner(X_train,y_train,model):\n",
    "    best_models=[]\n",
    "    model_perf=[]\n",
    "    hp_perf=[]\n",
    "    scoring='roc_auc'\n",
    "    \n",
    "    #traindata,valdata=train_test_split(transformed_data,test_size=0.2,random_state=42)\n",
    "    print('Fetching Hyper Parameters *********')\n",
    "    hp_list=generate_hp_list(model)\n",
    "    print('Starting HyperParameter Tuning ********')\n",
    "    best_hp_model, best_hp, best_hp_score=hyperparameter_tuner(model,X_train,y_train,hp_list)\n",
    "    #best_train_model=train_model(model,bestparams,traindata,features,target)\n",
    "    #print('Starting Model Evaluation *********')\n",
    "    #best_score=evaluate_cv_score(best_hp_model,best_hp,scoring,X_train,y_train)\n",
    "    #print(best_model)\n",
    "    return best_hp_model,best_hp_score\n"
   ]
  },
  {
   "cell_type": "code",
   "execution_count": 102,
   "metadata": {
    "colab": {},
    "colab_type": "code",
    "id": "r-_bH4SlM38v"
   },
   "outputs": [],
   "source": [
    "lreg=LogisticRegression()\n",
    "dtree=DecisionTreeClassifier()\n",
    "rforest=RandomForestClassifier()\n",
    "svmclass=SVC()\n",
    "gbm=GradientBoostingClassifier()\n",
    "ada=AdaBoostClassifier()"
   ]
  },
  {
   "cell_type": "code",
   "execution_count": 103,
   "metadata": {},
   "outputs": [],
   "source": [
    "y=base_data['target']\n",
    "base_data.drop(['target'],axis=1,inplace=True)\n",
    "X=base_data\n",
    "X_train,X_test,y_train,y_test=train_test_split(X,y,test_size=0.2,random_state=42,shuffle=True)"
   ]
  },
  {
   "cell_type": "code",
   "execution_count": 104,
   "metadata": {},
   "outputs": [],
   "source": [
    "from sklearn.preprocessing import FunctionTransformer\n",
    "\n",
    "transformer = FunctionTransformer(np.log1p)\n",
    "X_train_1 = np.array(X_train)\n",
    "X_test_1 = np.array(X_test)\n",
    "X_train_transform = transformer.transform(X_train_1)\n",
    "X_test_transform = transformer.transform(X_test_1)"
   ]
  },
  {
   "cell_type": "code",
   "execution_count": null,
   "metadata": {
    "colab": {
     "base_uri": "https://localhost:8080/",
     "height": 941
    },
    "colab_type": "code",
    "executionInfo": {
     "elapsed": 44808,
     "status": "ok",
     "timestamp": 1586447304774,
     "user": {
      "displayName": "Gaurav Rawal",
      "photoUrl": "",
      "userId": "15788189003675721616"
     },
     "user_tz": -330
    },
    "id": "iDAtl5fZM38y",
    "outputId": "ed2b2b57-aa03-440a-c636-7a53e14bc99c"
   },
   "outputs": [
    {
     "name": "stdout",
     "output_type": "stream",
     "text": [
      "Fetching Hyper Parameters *********\n",
      "Starting HyperParameter Tuning ********\n",
      "Fetching Hyper Parameters *********\n",
      "Starting HyperParameter Tuning ********\n",
      "Fetching Hyper Parameters *********\n",
      "Starting HyperParameter Tuning ********\n"
     ]
    }
   ],
   "source": [
    "model_family=[lreg,rforest,gbm,ada]\n",
    "best_models={}\n",
    "best_scores={}\n",
    "test_score={}\n",
    "for model in model_family:\n",
    "    best_model,best_score=model_tuner(X_train_transform,y_train,model)\n",
    "    if (isinstance(model,LogisticRegression)):\n",
    "        best_models['lreg']=best_model\n",
    "        best_scores['lreg']=best_score\n",
    "        y_pred=best_model.predict(X_test_transform)\n",
    "        model_test_score=roc_auc_score(y_test,y_pred,average='macro',sample_weight=None)\n",
    "        test_score['lreg']=model_test_score\n",
    "    elif (isinstance(model,RandomForestClassifier)):\n",
    "        best_models['rforest']=best_model\n",
    "        best_scores['rforest']=best_score\n",
    "        y_pred=best_model.predict(X_test_transform)\n",
    "        model_test_score=roc_auc_score(y_test,y_pred,average='macro',sample_weight=None)\n",
    "        test_score['rforest']=model_test_score\n",
    "    elif (isinstance(model,GradientBoostingClassifier)):\n",
    "        best_models['gbm']=best_model\n",
    "        best_scores['gbm']=best_score\n",
    "        y_pred=best_model.predict(X_test_transform)\n",
    "        model_test_score=roc_auc_score(y_test,y_pred,average='macro',sample_weight=None)\n",
    "        test_score['gbm']=model_test_score\n",
    "    elif (isinstance(model,AdaBoostClassifier)):\n",
    "        best_models['ada']=best_model\n",
    "        best_scores['ada']=best_score\n",
    "        y_pred=best_model.predict(X_test_transform)\n",
    "        model_test_score=roc_auc_score(y_test,y_pred,average='macro',sample_weight=None)\n",
    "        test_score['ada']=model_test_score\n",
    "    else:\n",
    "        pass"
   ]
  },
  {
   "cell_type": "code",
   "execution_count": 77,
   "metadata": {},
   "outputs": [
    {
     "name": "stdout",
     "output_type": "stream",
     "text": [
      "dict_keys(['algorithm', 'base_estimator', 'learning_rate', 'n_estimators', 'random_state'])\n"
     ]
    }
   ],
   "source": [
    "print(ada.get_params().keys())"
   ]
  },
  {
   "cell_type": "code",
   "execution_count": 78,
   "metadata": {},
   "outputs": [
    {
     "name": "stdout",
     "output_type": "stream",
     "text": [
      "{'lreg': LogisticRegression(C=0.0001, class_weight='balanced', dual=False,\n",
      "          fit_intercept=False, intercept_scaling=1, max_iter=100,\n",
      "          multi_class='ovr', n_jobs=1, penalty='l2', random_state=1,\n",
      "          solver='liblinear', tol=0.0001, verbose=0, warm_start=False), 'rforest': RandomForestClassifier(bootstrap=True, class_weight='balanced',\n",
      "            criterion='gini', max_depth=5, max_features='sqrt',\n",
      "            max_leaf_nodes=None, min_impurity_decrease=0.0,\n",
      "            min_impurity_split=None, min_samples_leaf=8,\n",
      "            min_samples_split=2, min_weight_fraction_leaf=0.0,\n",
      "            n_estimators=100, n_jobs=1, oob_score=False, random_state=1,\n",
      "            verbose=0, warm_start=False), 'gbm': GradientBoostingClassifier(criterion='friedman_mse', init=None,\n",
      "              learning_rate=0.05, loss='deviance', max_depth=10,\n",
      "              max_features=None, max_leaf_nodes=None,\n",
      "              min_impurity_decrease=0.0, min_impurity_split=None,\n",
      "              min_samples_leaf=1, min_samples_split=2,\n",
      "              min_weight_fraction_leaf=0.0, n_estimators=10,\n",
      "              presort='auto', random_state=None, subsample=1.0, verbose=0,\n",
      "              warm_start=False), 'ada': AdaBoostClassifier(algorithm='SAMME.R', base_estimator=None, learning_rate=1,\n",
      "          n_estimators=100, random_state=None)}\n",
      "{'lreg': 0.569025053939824, 'rforest': 0.5894386660276587, 'gbm': 0.583137138951356, 'ada': 0.5884651503179928}\n",
      "{'lreg': 0.5, 'rforest': 0.581027032017172, 'gbm': 0.5, 'ada': 0.4999821708743403}\n"
     ]
    }
   ],
   "source": [
    "print(best_models)\n",
    "print(best_scores)\n",
    "print(test_score)"
   ]
  },
  {
   "cell_type": "code",
   "execution_count": 79,
   "metadata": {},
   "outputs": [
    {
     "name": "stderr",
     "output_type": "stream",
     "text": [
      "C:\\Users\\gaurav.singh.rawal\\AppData\\Local\\Continuum\\anaconda3\\lib\\site-packages\\sklearn\\preprocessing\\label.py:151: DeprecationWarning: The truth value of an empty array is ambiguous. Returning False, but in future this will result in an error. Use `array.size > 0` to check that an array is not empty.\n",
      "  if diff:\n"
     ]
    },
    {
     "name": "stdout",
     "output_type": "stream",
     "text": [
      "0.9348\n",
      "0.5\n"
     ]
    },
    {
     "name": "stderr",
     "output_type": "stream",
     "text": [
      "C:\\Users\\gaurav.singh.rawal\\AppData\\Local\\Continuum\\anaconda3\\lib\\site-packages\\sklearn\\preprocessing\\label.py:151: DeprecationWarning: The truth value of an empty array is ambiguous. Returning False, but in future this will result in an error. Use `array.size > 0` to check that an array is not empty.\n",
      "  if diff:\n"
     ]
    }
   ],
   "source": [
    "from sklearn.ensemble import VotingClassifier\n",
    "voting_model = VotingClassifier(estimators=[('lreg', best_models['lreg']), \n",
    "                                             ('rforest', best_models['rforest']),\n",
    "                                                ('gbm', best_models['gbm']),\n",
    "                                                   ('ada',best_models['ada'])], \n",
    "                                                        voting='soft',weights=[2,2,1,1])\n",
    "voting_model = voting_model.fit(X_train_transform, y_train)\n",
    "y_pred=voting_model.predict(X_test_transform)\n",
    "print(voting_model.score(X_test_transform, y_test))\n",
    "print(roc_auc_score(y_test,y_pred,average='macro',sample_weight=None))"
   ]
  },
  {
   "cell_type": "code",
   "execution_count": null,
   "metadata": {},
   "outputs": [],
   "source": []
  }
 ],
 "metadata": {
  "colab": {
   "collapsed_sections": [],
   "name": "Untitled.ipynb",
   "provenance": []
  },
  "kernelspec": {
   "display_name": "Python 3",
   "language": "python",
   "name": "python3"
  }
 },
 "nbformat": 4,
 "nbformat_minor": 1
}
