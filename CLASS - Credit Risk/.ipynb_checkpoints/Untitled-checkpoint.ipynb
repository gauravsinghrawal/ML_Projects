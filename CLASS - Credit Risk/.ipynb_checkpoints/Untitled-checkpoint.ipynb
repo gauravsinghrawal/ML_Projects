{
 "cells": [
  {
   "cell_type": "code",
   "execution_count": 1,
   "metadata": {},
   "outputs": [],
   "source": [
    "import pandas as pd\n",
    "import numpy as np\n",
    "import seaborn as sns\n",
    "import matplotlib.pyplot as plt\n",
    "%matplotlib inline"
   ]
  },
  {
   "cell_type": "code",
   "execution_count": 2,
   "metadata": {},
   "outputs": [],
   "source": [
    "train_data=pd.read_csv(r'C:\\Users\\gaurav.singh.rawal\\Documents\\Gaurav\\Data Science\\Machine Learning-Predictive Analytics\\ML-Projects\\GIT- MLProjects\\ML_Projects\\CLASS - Credit Risk\\cs-training.csv')\n",
    "test_data=pd.read_csv(r'C:\\Users\\gaurav.singh.rawal\\Documents\\Gaurav\\Data Science\\Machine Learning-Predictive Analytics\\ML-Projects\\GIT- MLProjects\\ML_Projects\\CLASS - Credit Risk\\cs-test.csv')"
   ]
  },
  {
   "cell_type": "code",
   "execution_count": 3,
   "metadata": {},
   "outputs": [],
   "source": [
    "# For each column heading we replace \"-\" and convert the heading in lowercase \n",
    "cleancolumn = []\n",
    "for i in range(len(train_data.columns)):\n",
    "    cleancolumn.append(train_data.columns[i].replace('-', '').lower())\n",
    "train_data.columns = cleancolumn\n"
   ]
  },
  {
   "cell_type": "code",
   "execution_count": 4,
   "metadata": {},
   "outputs": [
    {
     "data": {
      "text/html": [
       "<div>\n",
       "<style scoped>\n",
       "    .dataframe tbody tr th:only-of-type {\n",
       "        vertical-align: middle;\n",
       "    }\n",
       "\n",
       "    .dataframe tbody tr th {\n",
       "        vertical-align: top;\n",
       "    }\n",
       "\n",
       "    .dataframe thead th {\n",
       "        text-align: right;\n",
       "    }\n",
       "</style>\n",
       "<table border=\"1\" class=\"dataframe\">\n",
       "  <thead>\n",
       "    <tr style=\"text-align: right;\">\n",
       "      <th></th>\n",
       "      <th>seriousdlqin2yrs</th>\n",
       "      <th>revolvingutilizationofunsecuredlines</th>\n",
       "      <th>age</th>\n",
       "      <th>numberoftime3059dayspastduenotworse</th>\n",
       "      <th>debtratio</th>\n",
       "      <th>monthlyincome</th>\n",
       "      <th>numberofopencreditlinesandloans</th>\n",
       "      <th>numberoftimes90dayslate</th>\n",
       "      <th>numberrealestateloansorlines</th>\n",
       "      <th>numberoftime6089dayspastduenotworse</th>\n",
       "      <th>numberofdependents</th>\n",
       "    </tr>\n",
       "  </thead>\n",
       "  <tbody>\n",
       "    <tr>\n",
       "      <th>0</th>\n",
       "      <td>1</td>\n",
       "      <td>0.766127</td>\n",
       "      <td>45</td>\n",
       "      <td>2</td>\n",
       "      <td>0.802982</td>\n",
       "      <td>9120.0</td>\n",
       "      <td>13</td>\n",
       "      <td>0</td>\n",
       "      <td>6</td>\n",
       "      <td>0</td>\n",
       "      <td>2.0</td>\n",
       "    </tr>\n",
       "    <tr>\n",
       "      <th>1</th>\n",
       "      <td>0</td>\n",
       "      <td>0.957151</td>\n",
       "      <td>40</td>\n",
       "      <td>0</td>\n",
       "      <td>0.121876</td>\n",
       "      <td>2600.0</td>\n",
       "      <td>4</td>\n",
       "      <td>0</td>\n",
       "      <td>0</td>\n",
       "      <td>0</td>\n",
       "      <td>1.0</td>\n",
       "    </tr>\n",
       "    <tr>\n",
       "      <th>2</th>\n",
       "      <td>0</td>\n",
       "      <td>0.658180</td>\n",
       "      <td>38</td>\n",
       "      <td>1</td>\n",
       "      <td>0.085113</td>\n",
       "      <td>3042.0</td>\n",
       "      <td>2</td>\n",
       "      <td>1</td>\n",
       "      <td>0</td>\n",
       "      <td>0</td>\n",
       "      <td>0.0</td>\n",
       "    </tr>\n",
       "    <tr>\n",
       "      <th>3</th>\n",
       "      <td>0</td>\n",
       "      <td>0.233810</td>\n",
       "      <td>30</td>\n",
       "      <td>0</td>\n",
       "      <td>0.036050</td>\n",
       "      <td>3300.0</td>\n",
       "      <td>5</td>\n",
       "      <td>0</td>\n",
       "      <td>0</td>\n",
       "      <td>0</td>\n",
       "      <td>0.0</td>\n",
       "    </tr>\n",
       "    <tr>\n",
       "      <th>4</th>\n",
       "      <td>0</td>\n",
       "      <td>0.907239</td>\n",
       "      <td>49</td>\n",
       "      <td>1</td>\n",
       "      <td>0.024926</td>\n",
       "      <td>63588.0</td>\n",
       "      <td>7</td>\n",
       "      <td>0</td>\n",
       "      <td>1</td>\n",
       "      <td>0</td>\n",
       "      <td>0.0</td>\n",
       "    </tr>\n",
       "  </tbody>\n",
       "</table>\n",
       "</div>"
      ],
      "text/plain": [
       "   seriousdlqin2yrs  revolvingutilizationofunsecuredlines  age  \\\n",
       "0                 1                              0.766127   45   \n",
       "1                 0                              0.957151   40   \n",
       "2                 0                              0.658180   38   \n",
       "3                 0                              0.233810   30   \n",
       "4                 0                              0.907239   49   \n",
       "\n",
       "   numberoftime3059dayspastduenotworse  debtratio  monthlyincome  \\\n",
       "0                                    2   0.802982         9120.0   \n",
       "1                                    0   0.121876         2600.0   \n",
       "2                                    1   0.085113         3042.0   \n",
       "3                                    0   0.036050         3300.0   \n",
       "4                                    1   0.024926        63588.0   \n",
       "\n",
       "   numberofopencreditlinesandloans  numberoftimes90dayslate  \\\n",
       "0                               13                        0   \n",
       "1                                4                        0   \n",
       "2                                2                        1   \n",
       "3                                5                        0   \n",
       "4                                7                        0   \n",
       "\n",
       "   numberrealestateloansorlines  numberoftime6089dayspastduenotworse  \\\n",
       "0                             6                                    0   \n",
       "1                             0                                    0   \n",
       "2                             0                                    0   \n",
       "3                             0                                    0   \n",
       "4                             1                                    0   \n",
       "\n",
       "   numberofdependents  \n",
       "0                 2.0  \n",
       "1                 1.0  \n",
       "2                 0.0  \n",
       "3                 0.0  \n",
       "4                 0.0  "
      ]
     },
     "execution_count": 4,
     "metadata": {},
     "output_type": "execute_result"
    }
   ],
   "source": [
    "train_data.head()"
   ]
  },
  {
   "cell_type": "code",
   "execution_count": 5,
   "metadata": {},
   "outputs": [
    {
     "data": {
      "text/html": [
       "<div>\n",
       "<style scoped>\n",
       "    .dataframe tbody tr th:only-of-type {\n",
       "        vertical-align: middle;\n",
       "    }\n",
       "\n",
       "    .dataframe tbody tr th {\n",
       "        vertical-align: top;\n",
       "    }\n",
       "\n",
       "    .dataframe thead th {\n",
       "        text-align: right;\n",
       "    }\n",
       "</style>\n",
       "<table border=\"1\" class=\"dataframe\">\n",
       "  <thead>\n",
       "    <tr style=\"text-align: right;\">\n",
       "      <th></th>\n",
       "      <th>seriousdlqin2yrs</th>\n",
       "      <th>revolvingutilizationofunsecuredlines</th>\n",
       "      <th>age</th>\n",
       "      <th>numberoftime3059dayspastduenotworse</th>\n",
       "      <th>debtratio</th>\n",
       "      <th>monthlyincome</th>\n",
       "      <th>numberofopencreditlinesandloans</th>\n",
       "      <th>numberoftimes90dayslate</th>\n",
       "      <th>numberrealestateloansorlines</th>\n",
       "      <th>numberoftime6089dayspastduenotworse</th>\n",
       "      <th>numberofdependents</th>\n",
       "    </tr>\n",
       "  </thead>\n",
       "  <tbody>\n",
       "    <tr>\n",
       "      <th>count</th>\n",
       "      <td>150000.000000</td>\n",
       "      <td>150000.000000</td>\n",
       "      <td>150000.000000</td>\n",
       "      <td>150000.000000</td>\n",
       "      <td>150000.000000</td>\n",
       "      <td>1.202690e+05</td>\n",
       "      <td>150000.000000</td>\n",
       "      <td>150000.000000</td>\n",
       "      <td>150000.000000</td>\n",
       "      <td>150000.000000</td>\n",
       "      <td>146076.000000</td>\n",
       "    </tr>\n",
       "    <tr>\n",
       "      <th>mean</th>\n",
       "      <td>0.066840</td>\n",
       "      <td>6.048438</td>\n",
       "      <td>52.295207</td>\n",
       "      <td>0.421033</td>\n",
       "      <td>353.005076</td>\n",
       "      <td>6.670221e+03</td>\n",
       "      <td>8.452760</td>\n",
       "      <td>0.265973</td>\n",
       "      <td>1.018240</td>\n",
       "      <td>0.240387</td>\n",
       "      <td>0.757222</td>\n",
       "    </tr>\n",
       "    <tr>\n",
       "      <th>std</th>\n",
       "      <td>0.249746</td>\n",
       "      <td>249.755371</td>\n",
       "      <td>14.771866</td>\n",
       "      <td>4.192781</td>\n",
       "      <td>2037.818523</td>\n",
       "      <td>1.438467e+04</td>\n",
       "      <td>5.145951</td>\n",
       "      <td>4.169304</td>\n",
       "      <td>1.129771</td>\n",
       "      <td>4.155179</td>\n",
       "      <td>1.115086</td>\n",
       "    </tr>\n",
       "    <tr>\n",
       "      <th>min</th>\n",
       "      <td>0.000000</td>\n",
       "      <td>0.000000</td>\n",
       "      <td>0.000000</td>\n",
       "      <td>0.000000</td>\n",
       "      <td>0.000000</td>\n",
       "      <td>0.000000e+00</td>\n",
       "      <td>0.000000</td>\n",
       "      <td>0.000000</td>\n",
       "      <td>0.000000</td>\n",
       "      <td>0.000000</td>\n",
       "      <td>0.000000</td>\n",
       "    </tr>\n",
       "    <tr>\n",
       "      <th>25%</th>\n",
       "      <td>0.000000</td>\n",
       "      <td>0.029867</td>\n",
       "      <td>41.000000</td>\n",
       "      <td>0.000000</td>\n",
       "      <td>0.175074</td>\n",
       "      <td>3.400000e+03</td>\n",
       "      <td>5.000000</td>\n",
       "      <td>0.000000</td>\n",
       "      <td>0.000000</td>\n",
       "      <td>0.000000</td>\n",
       "      <td>0.000000</td>\n",
       "    </tr>\n",
       "    <tr>\n",
       "      <th>50%</th>\n",
       "      <td>0.000000</td>\n",
       "      <td>0.154181</td>\n",
       "      <td>52.000000</td>\n",
       "      <td>0.000000</td>\n",
       "      <td>0.366508</td>\n",
       "      <td>5.400000e+03</td>\n",
       "      <td>8.000000</td>\n",
       "      <td>0.000000</td>\n",
       "      <td>1.000000</td>\n",
       "      <td>0.000000</td>\n",
       "      <td>0.000000</td>\n",
       "    </tr>\n",
       "    <tr>\n",
       "      <th>75%</th>\n",
       "      <td>0.000000</td>\n",
       "      <td>0.559046</td>\n",
       "      <td>63.000000</td>\n",
       "      <td>0.000000</td>\n",
       "      <td>0.868254</td>\n",
       "      <td>8.249000e+03</td>\n",
       "      <td>11.000000</td>\n",
       "      <td>0.000000</td>\n",
       "      <td>2.000000</td>\n",
       "      <td>0.000000</td>\n",
       "      <td>1.000000</td>\n",
       "    </tr>\n",
       "    <tr>\n",
       "      <th>max</th>\n",
       "      <td>1.000000</td>\n",
       "      <td>50708.000000</td>\n",
       "      <td>109.000000</td>\n",
       "      <td>98.000000</td>\n",
       "      <td>329664.000000</td>\n",
       "      <td>3.008750e+06</td>\n",
       "      <td>58.000000</td>\n",
       "      <td>98.000000</td>\n",
       "      <td>54.000000</td>\n",
       "      <td>98.000000</td>\n",
       "      <td>20.000000</td>\n",
       "    </tr>\n",
       "  </tbody>\n",
       "</table>\n",
       "</div>"
      ],
      "text/plain": [
       "       seriousdlqin2yrs  revolvingutilizationofunsecuredlines            age  \\\n",
       "count     150000.000000                         150000.000000  150000.000000   \n",
       "mean           0.066840                              6.048438      52.295207   \n",
       "std            0.249746                            249.755371      14.771866   \n",
       "min            0.000000                              0.000000       0.000000   \n",
       "25%            0.000000                              0.029867      41.000000   \n",
       "50%            0.000000                              0.154181      52.000000   \n",
       "75%            0.000000                              0.559046      63.000000   \n",
       "max            1.000000                          50708.000000     109.000000   \n",
       "\n",
       "       numberoftime3059dayspastduenotworse      debtratio  monthlyincome  \\\n",
       "count                        150000.000000  150000.000000   1.202690e+05   \n",
       "mean                              0.421033     353.005076   6.670221e+03   \n",
       "std                               4.192781    2037.818523   1.438467e+04   \n",
       "min                               0.000000       0.000000   0.000000e+00   \n",
       "25%                               0.000000       0.175074   3.400000e+03   \n",
       "50%                               0.000000       0.366508   5.400000e+03   \n",
       "75%                               0.000000       0.868254   8.249000e+03   \n",
       "max                              98.000000  329664.000000   3.008750e+06   \n",
       "\n",
       "       numberofopencreditlinesandloans  numberoftimes90dayslate  \\\n",
       "count                    150000.000000            150000.000000   \n",
       "mean                          8.452760                 0.265973   \n",
       "std                           5.145951                 4.169304   \n",
       "min                           0.000000                 0.000000   \n",
       "25%                           5.000000                 0.000000   \n",
       "50%                           8.000000                 0.000000   \n",
       "75%                          11.000000                 0.000000   \n",
       "max                          58.000000                98.000000   \n",
       "\n",
       "       numberrealestateloansorlines  numberoftime6089dayspastduenotworse  \\\n",
       "count                 150000.000000                        150000.000000   \n",
       "mean                       1.018240                             0.240387   \n",
       "std                        1.129771                             4.155179   \n",
       "min                        0.000000                             0.000000   \n",
       "25%                        0.000000                             0.000000   \n",
       "50%                        1.000000                             0.000000   \n",
       "75%                        2.000000                             0.000000   \n",
       "max                       54.000000                            98.000000   \n",
       "\n",
       "       numberofdependents  \n",
       "count       146076.000000  \n",
       "mean             0.757222  \n",
       "std              1.115086  \n",
       "min              0.000000  \n",
       "25%              0.000000  \n",
       "50%              0.000000  \n",
       "75%              1.000000  \n",
       "max             20.000000  "
      ]
     },
     "execution_count": 5,
     "metadata": {},
     "output_type": "execute_result"
    }
   ],
   "source": [
    "train_data.describe()"
   ]
  },
  {
   "cell_type": "code",
   "execution_count": 6,
   "metadata": {},
   "outputs": [
    {
     "name": "stdout",
     "output_type": "stream",
     "text": [
      "<class 'pandas.core.frame.DataFrame'>\n",
      "RangeIndex: 150000 entries, 0 to 149999\n",
      "Data columns (total 11 columns):\n",
      "seriousdlqin2yrs                        150000 non-null int64\n",
      "revolvingutilizationofunsecuredlines    150000 non-null float64\n",
      "age                                     150000 non-null int64\n",
      "numberoftime3059dayspastduenotworse     150000 non-null int64\n",
      "debtratio                               150000 non-null float64\n",
      "monthlyincome                           120269 non-null float64\n",
      "numberofopencreditlinesandloans         150000 non-null int64\n",
      "numberoftimes90dayslate                 150000 non-null int64\n",
      "numberrealestateloansorlines            150000 non-null int64\n",
      "numberoftime6089dayspastduenotworse     150000 non-null int64\n",
      "numberofdependents                      146076 non-null float64\n",
      "dtypes: float64(4), int64(7)\n",
      "memory usage: 12.6 MB\n"
     ]
    }
   ],
   "source": [
    "train_data.info()"
   ]
  },
  {
   "cell_type": "code",
   "execution_count": 7,
   "metadata": {},
   "outputs": [],
   "source": [
    "train_data['target']=train_data['seriousdlqin2yrs']\n",
    "train_data.drop('seriousdlqin2yrs',axis=1,inplace=True)"
   ]
  },
  {
   "cell_type": "code",
   "execution_count": 8,
   "metadata": {},
   "outputs": [
    {
     "data": {
      "text/plain": [
       "0    139974\n",
       "1     10026\n",
       "Name: target, dtype: int64"
      ]
     },
     "execution_count": 8,
     "metadata": {},
     "output_type": "execute_result"
    }
   ],
   "source": [
    "train_data.target.value_counts()"
   ]
  },
  {
   "cell_type": "code",
   "execution_count": 9,
   "metadata": {},
   "outputs": [
    {
     "data": {
      "text/plain": [
       "Text(0,0.5,'Numbers of records')"
      ]
     },
     "execution_count": 9,
     "metadata": {},
     "output_type": "execute_result"
    },
    {
     "data": {
      "image/png": "[encoded data removed]",
      "text/plain": [
       "<Figure size 432x288 with 1 Axes>"
      ]
     },
     "metadata": {},
     "output_type": "display_data"
    }
   ],
   "source": [
    "sns.set()\n",
    "sns.countplot(train_data['target'])\n",
    "ax = plt.gca()\n",
    "ax.set_xlabel(\"Labels for Target attribute\")\n",
    "ax.set_ylabel(\"Numbers of records\")"
   ]
  },
  {
   "cell_type": "code",
   "execution_count": 10,
   "metadata": {},
   "outputs": [
    {
     "data": {
      "text/plain": [
       "revolvingutilizationofunsecuredlines        0\n",
       "age                                         0\n",
       "numberoftime3059dayspastduenotworse         0\n",
       "debtratio                                   0\n",
       "monthlyincome                           29731\n",
       "numberofopencreditlinesandloans             0\n",
       "numberoftimes90dayslate                     0\n",
       "numberrealestateloansorlines                0\n",
       "numberoftime6089dayspastduenotworse         0\n",
       "numberofdependents                       3924\n",
       "target                                      0\n",
       "dtype: int64"
      ]
     },
     "execution_count": 10,
     "metadata": {},
     "output_type": "execute_result"
    }
   ],
   "source": [
    "train_data.isnull().sum()"
   ]
  },
  {
   "cell_type": "code",
   "execution_count": 11,
   "metadata": {},
   "outputs": [
    {
     "data": {
      "image/png": "[encoded data removed]",
      "text/plain": [
       "<Figure size 432x288 with 1 Axes>"
      ]
     },
     "metadata": {},
     "output_type": "display_data"
    }
   ],
   "source": [
    "sns.barplot(x=train_data.isnull().sum().index,y=train_data.isnull().sum().values)\n",
    "ax = plt.gca()\n",
    "ax.set_xlabel(\"Data Attributes\")\n",
    "ax.set_ylabel(\"Count of missing Records\")\n",
    "plt.xticks(rotation=90)\n",
    "plt.show()"
   ]
  },
  {
   "cell_type": "code",
   "execution_count": 12,
   "metadata": {},
   "outputs": [],
   "source": [
    "train_data_mean=train_data.fillna(train_data.mean())"
   ]
  },
  {
   "cell_type": "code",
   "execution_count": 13,
   "metadata": {},
   "outputs": [
    {
     "data": {
      "text/plain": [
       "revolvingutilizationofunsecuredlines    0\n",
       "age                                     0\n",
       "numberoftime3059dayspastduenotworse     0\n",
       "debtratio                               0\n",
       "monthlyincome                           0\n",
       "numberofopencreditlinesandloans         0\n",
       "numberoftimes90dayslate                 0\n",
       "numberrealestateloansorlines            0\n",
       "numberoftime6089dayspastduenotworse     0\n",
       "numberofdependents                      0\n",
       "target                                  0\n",
       "dtype: int64"
      ]
     },
     "execution_count": 13,
     "metadata": {},
     "output_type": "execute_result"
    }
   ],
   "source": [
    "train_data_mean.isnull().sum()"
   ]
  },
  {
   "cell_type": "code",
   "execution_count": 14,
   "metadata": {},
   "outputs": [],
   "source": [
    "train_data_median=train_data.fillna(train_data.median())"
   ]
  },
  {
   "cell_type": "code",
   "execution_count": 15,
   "metadata": {},
   "outputs": [
    {
     "data": {
      "image/png": "[encoded data removed]",
      "text/plain": [
       "<Figure size 432x288 with 2 Axes>"
      ]
     },
     "metadata": {},
     "output_type": "display_data"
    }
   ],
   "source": [
    "sns.set()\n",
    "sns.heatmap(train_data_median[train_data_median.columns[1:]].corr(),annot=True,fmt=\".1f\",\n",
    "            cmap=(sns.cubehelix_palette(8, start=.5, rot=-.75)))\n",
    "plt.show()"
   ]
  },
  {
   "cell_type": "code",
   "execution_count": 16,
   "metadata": {},
   "outputs": [
    {
     "data": {
      "text/plain": [
       "Index(['revolvingutilizationofunsecuredlines', 'age',\n",
       "       'numberoftime3059dayspastduenotworse', 'debtratio', 'monthlyincome',\n",
       "       'numberofopencreditlinesandloans', 'numberoftimes90dayslate',\n",
       "       'numberrealestateloansorlines', 'numberoftime6089dayspastduenotworse',\n",
       "       'numberofdependents', 'target'],\n",
       "      dtype='object')"
      ]
     },
     "execution_count": 16,
     "metadata": {},
     "output_type": "execute_result"
    }
   ],
   "source": [
    "train_data_median.columns"
   ]
  },
  {
   "cell_type": "code",
   "execution_count": 17,
   "metadata": {},
   "outputs": [],
   "source": [
    "train_data_median.drop(['numberoftime6089dayspastduenotworse','numberoftime3059dayspastduenotworse'],axis=1,inplace=True)"
   ]
  },
  {
   "cell_type": "code",
   "execution_count": 18,
   "metadata": {},
   "outputs": [],
   "source": [
    "# Percentile based outlier detection\n",
    "#def percentile_based_outlier(data, threshold=95):\n",
    "#   diff = (100 - threshold) / 2.0\n",
    "#   (minval, maxval) = np.percentile(data, [diff, 100 - diff])\n",
    "#   return ((data < minval) | (data > maxval))\n",
    "\n",
    "# Another percentile based outlier detection method which is based on inter quertile(IQR) range\n",
    "import numpy as np\n",
    "def outliers_iqr(data):\n",
    "    Q1 = data.quantile(0.25)\n",
    "    Q3 = data.quantile(0.75)\n",
    "    IQR = Q3 - Q1\n",
    "    print(data[((data < (Q1 - 1.5 * IQR)) | (data > (Q3 + 1.5 * IQR)))])\n",
    "    return data[((data < (Q1 - 1.5 * IQR)) | (data > (Q3 + 1.5 * IQR)))]\n"
   ]
  },
  {
   "cell_type": "code",
   "execution_count": 19,
   "metadata": {},
   "outputs": [],
   "source": [
    "def mad_based_outlier(points, threshold=3.5):\n",
    "    median_y = np.median(points)\n",
    "    median_absolute_deviation_y = np.median([np.abs(y - median_y) for y in points])\n",
    "    modified_z_scores = [0.6745 * (y - median_y) / median_absolute_deviation_y\n",
    "                         for y in points]\n",
    "\n",
    "    return np.abs(modified_z_scores) > threshold\n",
    "#mad_based_outlier(points=training_data.age)"
   ]
  },
  {
   "cell_type": "code",
   "execution_count": 20,
   "metadata": {},
   "outputs": [],
   "source": [
    "def std_div(data, threshold=3):\n",
    "    std = data.std()\n",
    "    mean = data.mean()\n",
    "    isOutlier = []\n",
    "    for val in data:\n",
    "        if val/std > threshold:\n",
    "            isOutlier.append(True)\n",
    "        else:\n",
    "            isOutlier.append(False)\n",
    "    return isOutlier\n",
    "#std_div(data=training_data.age)"
   ]
  },
  {
   "cell_type": "code",
   "execution_count": 21,
   "metadata": {},
   "outputs": [
    {
     "name": "stdout",
     "output_type": "stream",
     "text": [
      "<class 'pandas.core.frame.DataFrame'>\n",
      "RangeIndex: 150000 entries, 0 to 149999\n",
      "Data columns (total 9 columns):\n",
      "revolvingutilizationofunsecuredlines    150000 non-null float64\n",
      "age                                     150000 non-null int64\n",
      "debtratio                               150000 non-null float64\n",
      "monthlyincome                           150000 non-null float64\n",
      "numberofopencreditlinesandloans         150000 non-null int64\n",
      "numberoftimes90dayslate                 150000 non-null int64\n",
      "numberrealestateloansorlines            150000 non-null int64\n",
      "numberofdependents                      150000 non-null float64\n",
      "target                                  150000 non-null int64\n",
      "dtypes: float64(4), int64(5)\n",
      "memory usage: 10.3 MB\n"
     ]
    }
   ],
   "source": [
    "train_data_median.info()"
   ]
  },
  {
   "cell_type": "code",
   "execution_count": 22,
   "metadata": {},
   "outputs": [],
   "source": [
    "target_df=train_data_median['target']\n",
    "train_data_median.drop(['target'],axis=1,inplace=True)\n",
    "features=train_data_median.columns\n"
   ]
  },
  {
   "cell_type": "code",
   "execution_count": 23,
   "metadata": {},
   "outputs": [],
   "source": [
    "Q1 = train_data_median.quantile(0.25)\n",
    "Q3 = train_data_median.quantile(0.75)\n",
    "IQR = Q3 - Q1\n",
    "train_df=train_data_median[~((train_data_median < (Q1 - 1.5 * IQR)) |(train_data_median > (Q3 + 1.5 * IQR))).any(axis=1)]"
   ]
  },
  {
   "cell_type": "code",
   "execution_count": 24,
   "metadata": {},
   "outputs": [
    {
     "data": {
      "text/html": [
       "<div>\n",
       "<style scoped>\n",
       "    .dataframe tbody tr th:only-of-type {\n",
       "        vertical-align: middle;\n",
       "    }\n",
       "\n",
       "    .dataframe tbody tr th {\n",
       "        vertical-align: top;\n",
       "    }\n",
       "\n",
       "    .dataframe thead th {\n",
       "        text-align: right;\n",
       "    }\n",
       "</style>\n",
       "<table border=\"1\" class=\"dataframe\">\n",
       "  <thead>\n",
       "    <tr style=\"text-align: right;\">\n",
       "      <th></th>\n",
       "      <th>revolvingutilizationofunsecuredlines</th>\n",
       "      <th>age</th>\n",
       "      <th>debtratio</th>\n",
       "      <th>monthlyincome</th>\n",
       "      <th>numberofopencreditlinesandloans</th>\n",
       "      <th>numberoftimes90dayslate</th>\n",
       "      <th>numberrealestateloansorlines</th>\n",
       "      <th>numberofdependents</th>\n",
       "    </tr>\n",
       "  </thead>\n",
       "  <tbody>\n",
       "    <tr>\n",
       "      <th>count</th>\n",
       "      <td>90548.000000</td>\n",
       "      <td>90548.000000</td>\n",
       "      <td>90548.000000</td>\n",
       "      <td>90548.000000</td>\n",
       "      <td>90548.000000</td>\n",
       "      <td>90548.0</td>\n",
       "      <td>90548.000000</td>\n",
       "      <td>90548.000000</td>\n",
       "    </tr>\n",
       "    <tr>\n",
       "      <th>mean</th>\n",
       "      <td>0.304890</td>\n",
       "      <td>52.086805</td>\n",
       "      <td>0.333870</td>\n",
       "      <td>5497.093475</td>\n",
       "      <td>8.129788</td>\n",
       "      <td>0.0</td>\n",
       "      <td>0.918607</td>\n",
       "      <td>0.531475</td>\n",
       "    </tr>\n",
       "    <tr>\n",
       "      <th>std</th>\n",
       "      <td>0.339168</td>\n",
       "      <td>15.317690</td>\n",
       "      <td>0.290239</td>\n",
       "      <td>2772.997331</td>\n",
       "      <td>4.331497</td>\n",
       "      <td>0.0</td>\n",
       "      <td>0.937475</td>\n",
       "      <td>0.750461</td>\n",
       "    </tr>\n",
       "    <tr>\n",
       "      <th>min</th>\n",
       "      <td>0.000000</td>\n",
       "      <td>21.000000</td>\n",
       "      <td>0.000000</td>\n",
       "      <td>0.000000</td>\n",
       "      <td>0.000000</td>\n",
       "      <td>0.0</td>\n",
       "      <td>0.000000</td>\n",
       "      <td>0.000000</td>\n",
       "    </tr>\n",
       "    <tr>\n",
       "      <th>25%</th>\n",
       "      <td>0.027915</td>\n",
       "      <td>40.000000</td>\n",
       "      <td>0.122639</td>\n",
       "      <td>3358.000000</td>\n",
       "      <td>5.000000</td>\n",
       "      <td>0.0</td>\n",
       "      <td>0.000000</td>\n",
       "      <td>0.000000</td>\n",
       "    </tr>\n",
       "    <tr>\n",
       "      <th>50%</th>\n",
       "      <td>0.147378</td>\n",
       "      <td>52.000000</td>\n",
       "      <td>0.283060</td>\n",
       "      <td>5100.000000</td>\n",
       "      <td>8.000000</td>\n",
       "      <td>0.0</td>\n",
       "      <td>1.000000</td>\n",
       "      <td>0.000000</td>\n",
       "    </tr>\n",
       "    <tr>\n",
       "      <th>75%</th>\n",
       "      <td>0.517726</td>\n",
       "      <td>63.000000</td>\n",
       "      <td>0.463240</td>\n",
       "      <td>7331.000000</td>\n",
       "      <td>11.000000</td>\n",
       "      <td>0.0</td>\n",
       "      <td>2.000000</td>\n",
       "      <td>1.000000</td>\n",
       "    </tr>\n",
       "    <tr>\n",
       "      <th>max</th>\n",
       "      <td>1.350970</td>\n",
       "      <td>96.000000</td>\n",
       "      <td>1.906765</td>\n",
       "      <td>12644.000000</td>\n",
       "      <td>20.000000</td>\n",
       "      <td>0.0</td>\n",
       "      <td>5.000000</td>\n",
       "      <td>2.000000</td>\n",
       "    </tr>\n",
       "  </tbody>\n",
       "</table>\n",
       "</div>"
      ],
      "text/plain": [
       "       revolvingutilizationofunsecuredlines           age     debtratio  \\\n",
       "count                          90548.000000  90548.000000  90548.000000   \n",
       "mean                               0.304890     52.086805      0.333870   \n",
       "std                                0.339168     15.317690      0.290239   \n",
       "min                                0.000000     21.000000      0.000000   \n",
       "25%                                0.027915     40.000000      0.122639   \n",
       "50%                                0.147378     52.000000      0.283060   \n",
       "75%                                0.517726     63.000000      0.463240   \n",
       "max                                1.350970     96.000000      1.906765   \n",
       "\n",
       "       monthlyincome  numberofopencreditlinesandloans  \\\n",
       "count   90548.000000                     90548.000000   \n",
       "mean     5497.093475                         8.129788   \n",
       "std      2772.997331                         4.331497   \n",
       "min         0.000000                         0.000000   \n",
       "25%      3358.000000                         5.000000   \n",
       "50%      5100.000000                         8.000000   \n",
       "75%      7331.000000                        11.000000   \n",
       "max     12644.000000                        20.000000   \n",
       "\n",
       "       numberoftimes90dayslate  numberrealestateloansorlines  \\\n",
       "count                  90548.0                  90548.000000   \n",
       "mean                       0.0                      0.918607   \n",
       "std                        0.0                      0.937475   \n",
       "min                        0.0                      0.000000   \n",
       "25%                        0.0                      0.000000   \n",
       "50%                        0.0                      1.000000   \n",
       "75%                        0.0                      2.000000   \n",
       "max                        0.0                      5.000000   \n",
       "\n",
       "       numberofdependents  \n",
       "count        90548.000000  \n",
       "mean             0.531475  \n",
       "std              0.750461  \n",
       "min              0.000000  \n",
       "25%              0.000000  \n",
       "50%              0.000000  \n",
       "75%              1.000000  \n",
       "max              2.000000  "
      ]
     },
     "execution_count": 24,
     "metadata": {},
     "output_type": "execute_result"
    }
   ],
   "source": [
    "train_df.describe()"
   ]
  },
  {
   "cell_type": "code",
   "execution_count": 26,
   "metadata": {},
   "outputs": [],
   "source": [
    "from sklearn.ensemble import RandomForestClassifier\n",
    "X_train = train_data_median[features]\n",
    "y_train = target_df\n",
    "features_label = X_train.columns[1:]\n",
    "forest = RandomForestClassifier (n_estimators = 100, random_state=0, n_jobs = -1)\n",
    "forest.fit(X_train,y_train)\n",
    "importances = forest.feature_importances_\n",
    "indices = np. argsort(importances)[::-1]\n"
   ]
  },
  {
   "cell_type": "code",
   "execution_count": 27,
   "metadata": {},
   "outputs": [
    {
     "name": "stdout",
     "output_type": "stream",
     "text": [
      "age 0.22620681989912\n",
      "debtratio 0.20288173552385846\n",
      "monthlyincome 0.1596684676936602\n",
      "numberofopencreditlinesandloans 0.1375276871437594\n",
      "numberoftimes90dayslate 0.10932050088214189\n",
      "numberrealestateloansorlines 0.09227820727662304\n",
      "numberofdependents 0.04035236886408312\n"
     ]
    }
   ],
   "source": [
    "for i in range((X.shape[1])-1):\n",
    "    print (features_label[i],importances[indices[i]])"
   ]
  },
  {
   "cell_type": "code",
   "execution_count": 28,
   "metadata": {},
   "outputs": [
    {
     "data": {
      "image/png": "[encoded data removed]",
      "text/plain": [
       "<Figure size 432x288 with 1 Axes>"
      ]
     },
     "metadata": {},
     "output_type": "display_data"
    }
   ],
   "source": [
    "plt.title('Feature Importances')\n",
    "plt.bar(range(X.shape[1]),importances[indices], color=\"green\", align=\"center\")\n",
    "plt.xticks(range(X.shape[1]),features_label, rotation=90)\n",
    "plt.xlim([-1, X.shape[1]])\n",
    "plt.show()"
   ]
  },
  {
   "cell_type": "code",
   "execution_count": 29,
   "metadata": {},
   "outputs": [],
   "source": [
    "def generate_hp_list(model):\n",
    "    C_range=[0.1,1,0.001,0.0001]\n",
    "    if isinstance(model,LogisticRegression):\n",
    "        param_grid={'random_state':[1],\n",
    "                    'penalty':['l1','l2'],\n",
    "                    'C':C_range,\n",
    "                    'class_weight':['balanced']}\n",
    "    if isinstance(model,KNeighborsClassifier):\n",
    "        param_grid={'n_neighbors':[5,10,15],\n",
    "                    'p':[1,2,3,4,5],\n",
    "                   'class_weight':['balanced']}\n",
    "    if isinstance(model,svm.SVC):\n",
    "        param_grid={'kernel': ['linear', 'rbf'],\n",
    "                    'gamma':[0,10,100],\n",
    "                    'C':C_range,\n",
    "                    'class_weight':['balanced']}\n",
    "    if isinstance(model,DecisionTreeClassifier):\n",
    "        param_grid = {'random_state':[1],\n",
    "         'max_depth': [5,10,15,20,25],\n",
    "         'min_samples_split': [2, 5, 10],\n",
    "         'min_samples_leaf': [1, 2, 4],\n",
    "         'max_features': ['auto', 'sqrt'],\n",
    "         'class_weight':['balanced']}\n",
    "    if isinstance(model,RandomForestClassifier):\n",
    "        param_grid = {'random_state':[1],\n",
    "         'bootstrap': [True, False],\n",
    "         'criterion':['gini','entropy'],\n",
    "         'max_depth': [5,10,15,20,25],\n",
    "         'max_features': ['auto', 'sqrt'],\n",
    "         'min_samples_leaf': [2,4,6,8,10],\n",
    "         'min_samples_split': [2,5,10],\n",
    "         'n_estimators': [25,50,75,100],\n",
    "         'class_weight':['balanced']}\n",
    "    if isinstance(model,ExtraTreesClassifier):\n",
    "        param_grid = {'random_state':[1],\n",
    "         'n_estimators': [25,50,75,100],\n",
    "         'criterion':['gini','entropy'],\n",
    "         'class_weight':['balanced']}\n",
    "    if isinstance(model,GradientBoostingClassifier):\n",
    "        param_grid = {'learning_rate': [0.05],\n",
    "         'subsample':[0.5],\n",
    "         'max_depth':[5,10,15,20,25],\n",
    "         'n_estimators': [25,50,75,100]}\n",
    "    return param_grid  "
   ]
  },
  {
   "cell_type": "code",
   "execution_count": 31,
   "metadata": {},
   "outputs": [],
   "source": [
    "def hyperparameter_tuner(model,train_data,features,target,hp_list):\n",
    "    \n",
    "    hp_perf=[]\n",
    "    hp_model=RandomizedSearchCV(model,param_distributions=hp_list,cv=5,n_jobs=-1)\n",
    "    hp_model.best_estimator_.fit(train_data[features],train_data[target])\n",
    "    best_param=hp_model.best_params_\n",
    "    best_score=hp_model.best_score_  \n",
    "   \n",
    "    return hp_model, best_param, best_score"
   ]
  },
  {
   "cell_type": "code",
   "execution_count": null,
   "metadata": {},
   "outputs": [],
   "source": [
    "def train_model(model,hyperparams,data,features,target):\n",
    "        model.fit(data[features],data[target])\n",
    "        return model"
   ]
  },
  {
   "cell_type": "code",
   "execution_count": 30,
   "metadata": {},
   "outputs": [],
   "source": [
    "from sklearn.metrics import f1_score\n",
    "def evaluate_model(model,bestparams,train_data,train_cols,target,val_data):\n",
    "    if isinstance(model,LogisticRegression):\n",
    "        print(\"Evaluating Logistic Regression *****************\")\n",
    "        logreg = LogisticRegression(random_state=0)\n",
    "        logreg.set_params(**bestparams.best_params_)\n",
    "        logreg.fit(train_data[train_cols],train_data[target])\n",
    "        val_predict=logreg.predict_proba(val_data[train_cols])\n",
    "        f1score=f1_score(val_data[target],val_predict)\n",
    "        print(\"F1 Score for Logreg:\",f1score)\n",
    "        return logreg,logloss_score\n",
    "    if isinstance(model,KNeighborsClassifier):\n",
    "        print(\"Evaluating Nearest Neighbors *********************\")\n",
    "        knn = KNeighborsClassifier()\n",
    "        knn.set_params(**bestparams.best_params_)\n",
    "        knn.fit(train_data[train_cols],train_data[target])\n",
    "        val_predict=knn.predict_proba(val_data[train_cols])\n",
    "        f1score=f1_score(val_data[target],val_predict)\n",
    "        print(\"F1 Score for KNN:\",f1score)\n",
    "        return knn, logloss_score\n",
    "    if isinstance(model,RandomForestClassifier):\n",
    "        print(\"Evaluating Random Forest *********************\")\n",
    "        rforest = RandomForestClassifier()\n",
    "        rforest.set_params(**bestparams.best_params_)\n",
    "        rforest.fit(train_data[train_cols],train_data[target])\n",
    "        val_predict=rforest.predict_proba(val_data[train_cols])\n",
    "        f1score=f1_score(val_data[target],val_predict)\n",
    "        print(\"F1 Score for RForest:\",f1score)\n",
    "        return rforest, logloss_score\n",
    "    if isinstance(model,ExtraTreesClassifier):\n",
    "        print(\"Evaluating Extra Trees *********************\")\n",
    "        etrees = ExtraTreesClassifier()\n",
    "        etrees.set_params(**bestparams.best_params_)\n",
    "        etrees.fit(train_data[train_cols],train_data[target])\n",
    "        val_predict=etrees.predict_proba(val_data[train_cols])\n",
    "        logloss_score=log_loss(val_data[target],val_predict)\n",
    "        print(\"Log Loss Score for Extra Trees:\",logloss_score)\n",
    "        return etrees, logloss_score\n",
    "    if isinstance(model,GradientBoostingClassifier):\n",
    "        print(\"Evaluating Gradient Boosting *********************\")\n",
    "        gbm = GradientBoostingClassifier()\n",
    "        gbm.set_params(**bestparams.best_params_)\n",
    "        gbm.fit(train_data[train_cols],train_data[target])\n",
    "        val_predict=gbm.predict_proba(val_data[train_cols])\n",
    "        logloss_score=log_loss(val_data[target],val_predict)\n",
    "        print(\"Log Loss Score for GBM:\",logloss_score)\n",
    "        return gbm, logloss_score\n"
   ]
  },
  {
   "cell_type": "code",
   "execution_count": 33,
   "metadata": {},
   "outputs": [],
   "source": [
    "from sklearn.model_selection import cross_val_score\n",
    "def evaluate_cv_score(model, scr, X_train=X, y_train=y, cv=5, verbose=1):\n",
    "    model_score = cross_val_score(model, X_train, y_train, cv=cv, verbose=verbose, scoring=scr)\n",
    "    model_mean_score = model_score.mean()\n",
    "    return model_dict"
   ]
  },
  {
   "cell_type": "code",
   "execution_count": null,
   "metadata": {},
   "outputs": [],
   "source": [
    "def model_tuner(transformed_data, model_family_list):\n",
    "    best_models=[]\n",
    "    model_perf=[]\n",
    "    hp_perf=[]\n",
    "    train_columns=transformed_data.columns\n",
    "    features=train_columns.drop('loan_status')\n",
    "    target='loan_status'\n",
    "    \n",
    "    #train_data,test_data=train_test_split(transformed_data,test_size=0.3,random_state=42)\n",
    "    for model in model_family_list:\n",
    "        traindata,valdata=train_test_split(transformed_data,test_size=0.2,random_state=42)\n",
    "        print('Fetching Hyper Parameters *********')\n",
    "        hp_list=generate_hp_list(model)\n",
    "        print(hp_list)\n",
    "        print('Starting HyperParameter Tuning ********')\n",
    "        best_hp_model, best_hp, best_hp_score=hyperparameter_tuner(model,traindata,features,target,hp_list)\n",
    "        #best_train_model=train_model(model,bestparams,traindata,features,target)\n",
    "        print('Starting Model Evaluation *********')\n",
    "        best_model, best_result=evaluate_model(model,bestmodelparams,traindata,features,target,valdata)\n",
    "        best_models.append(best_model)\n",
    "        model_perf.append(best_result)\n",
    "        hp_perf.append(bestparams)\n",
    "    best_mf=best_models[model_perf.index(max(model_perf))]\n",
    "    best_hp=hp_perf[model_perf.index(max(model_perf))]\n",
    "    best_model=train_model(best_mf,best_hp,pd.concat([traindata,valdata]),features,target)\n",
    "    return(best_mf,best_hp,best_model)"
   ]
  }
 ],
 "metadata": {
  "kernelspec": {
   "display_name": "Python 3",
   "language": "python",
   "name": "python3"
  },
  "language_info": {
   "codemirror_mode": {
    "name": "ipython",
    "version": 3
   },
   "file_extension": ".py",
   "mimetype": "text/x-python",
   "name": "python",
   "nbconvert_exporter": "python",
   "pygments_lexer": "ipython3",
   "version": "3.6.5"
  }
 },
 "nbformat": 4,
 "nbformat_minor": 2
}
